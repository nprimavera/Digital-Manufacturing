{
  "nbformat": 4,
  "nbformat_minor": 0,
  "metadata": {
    "colab": {
      "provenance": [],
      "authorship_tag": "ABX9TyOtPf/p+IxvrRzq5nyKjUgS",
      "include_colab_link": true
    },
    "kernelspec": {
      "name": "python3",
      "display_name": "Python 3"
    },
    "language_info": {
      "name": "python"
    }
  },
  "cells": [
    {
      "cell_type": "markdown",
      "metadata": {
        "id": "view-in-github",
        "colab_type": "text"
      },
      "source": [
        "<a href=\"https://colab.research.google.com/github/nprimavera/Laser-Cutting/blob/main/FINAL_LASER_CUTTER_BOX_CODE.ipynb\" target=\"_parent\"><img src=\"https://colab.research.google.com/assets/colab-badge.svg\" alt=\"Open In Colab\"/></a>"
      ]
    },
    {
      "cell_type": "code",
      "source": [
        "# Generating a Fractal - general usage\n",
        "\n",
        "import matplotlib.pyplot as plt\n",
        "import numpy as np\n",
        "\n",
        "class Vector:                     # REMINDER: class --> defines the attributes and bahaviors of the vector\n",
        "    def __init__(self, x, y):     # REMINDER: init function --> special method in a class that is called when an object is created - initializes object's attributes\n",
        "        self.x = x                # instance variable for x\n",
        "        self.y = y                # instance variable for y\n",
        "\n",
        "class AffineTransform:\n",
        "    def __init__(self, a, b, c, d, e, f):   # initializes object's attributes\n",
        "        self.a = a    # instance variables\n",
        "        self.b = b\n",
        "        self.c = c\n",
        "        self.d = d\n",
        "        self.e = e\n",
        "        self.f = f\n",
        "\n",
        "def recursivePlot(vector, transforms, num_transforms, current_depth, max_depth, ax):  # recursive plot function w/ specified params\n",
        "    if current_depth == max_depth:          # base case: current recursion depth equals maximum recursion depth\n",
        "        ax.plot(vector.x, vector.y, 'ro')   # if true --> recursivePlot will plot the Vector with a call to ax.plot and return\n",
        "        return\n",
        "\n",
        "# apply affine transformations to the vector\n",
        "    for transform in transforms:            # loops through all the transformations in the array\n",
        "        new_x = transform.a * vector.x + transform.b * vector.y + transform.e\n",
        "        new_y = transform.c * vector.x + transform.d * vector.y + transform.f\n",
        "        new_vector = Vector(new_x, new_y)   # calculates a new vector for each transformation\n",
        "        recursivePlot(new_vector, transforms, num_transforms, current_depth + 1, max_depth, ax)\n",
        "\n",
        "def drawFractal(startPoint, transforms, max_depth):   # draws the fractal w/ specified params\n",
        "    fig, ax = plt.subplots()                          # ax plot allows the function to plot on the same set of axes throughout its recursive calls\n",
        "    num_transforms = len(transforms)                  # the number of transforms is equal to the amount/length of transforms - defined in usage\n",
        "    recursivePlot(startPoint, transforms, num_transforms, 0, max_depth, ax)\n",
        "    ax.set_xlabel('X')\n",
        "    ax.set_ylabel('Y')\n",
        "    ax.set_title('Sierpinski triangle')\n",
        "    ax.grid(True)\n",
        "    plt.savefig('fractal.svg', format='svg')          # saves the fractal as an svg file"
      ],
      "metadata": {
        "id": "EZuo9pZxEJK2"
      },
      "execution_count": null,
      "outputs": []
    },
    {
      "cell_type": "code",
      "source": [
        "# Example usage - using the Sierpinski triangle for this example\n",
        "\n",
        "# Starting point of the fractal - from user input\n",
        "def user_input():\n",
        "    while True:\n",
        "        try:\n",
        "            x = int(input(\"Enter the x-coordinate of the starting point (in inches, maximum 12): \")) * 90   # 90 pixels per inch\n",
        "            y = int(input(\"Enter the y-coordinate of the starting point (in inches, maximum 18): \")) * 90\n",
        "            if 0 <= x <= 1080 and 0 <= y <= 1620:  # Check if coordinates are within constraints\n",
        "                return Vector(x, y)\n",
        "            else:\n",
        "                print(\"Error: Coordinates must be within 12 inches for x and 18 inches for y.\")\n",
        "        except ValueError:\n",
        "            print(\"Error: Invalid input. Please enter valid numerical values for coordinates.\")\n",
        "\n",
        "if __name__ == \"__main__\":\n",
        "    startPoint = user_input()\n",
        "\n",
        "    # Define transformations for Sierpinski triangle\n",
        "    transforms = [\n",
        "        AffineTransform(0.5, 0, 0, 0.5, 0, 0),   # Scale down by 1/2\n",
        "        AffineTransform(0.5, 0, 0, 0.5, 0.5, 0), # Scale down by 1/2 and move right by 0.5\n",
        "        AffineTransform(0.5, 0, 0, 0.5, 0.25, 0.5) # Scale down by 1/2, move right by 0.25, and up by 0.5\n",
        "    ]\n",
        "\n",
        "    # Calculate maximum recursion depth\n",
        "    max_depth = 5\n",
        "\n",
        "    # Execute the draw fractal function\n",
        "    drawFractal(startPoint, transforms, max_depth)"
      ],
      "metadata": {
        "colab": {
          "base_uri": "https://localhost:8080/",
          "height": 506
        },
        "id": "ssMGVE5wEJ-r",
        "outputId": "207812b8-060e-4dbf-9fa9-52d8fc8fe915"
      },
      "execution_count": null,
      "outputs": [
        {
          "name": "stdout",
          "output_type": "stream",
          "text": [
            "Enter the x-coordinate of the starting point (in inches, maximum 12): 5\n",
            "Enter the y-coordinate of the starting point (in inches, maximum 18): 3\n"
          ]
        },
        {
          "output_type": "display_data",
          "data": {
            "text/plain": [
              "<Figure size 640x480 with 1 Axes>"
            ],
            "image/png": "[encoded data removed]"
          },
          "metadata": {}
        }
      ]
    },
    {
      "cell_type": "code",
      "source": [
        "# Define box variables based off user input\n",
        "while True:\n",
        "    try:\n",
        "        box_height_inches = int(input(\"Enter the desired height of your box to the nearest whole inch (maximum 18 inches): \"))\n",
        "        if 1 <= box_height_inches <= 18:\n",
        "            box_height = box_height_inches * 90\n",
        "            break\n",
        "        else:\n",
        "            print(\"Error: Box height must be between 1 and 18 inches.\")\n",
        "    except ValueError:\n",
        "        print(\"Error: Invalid input. Please enter a valid numerical value for the height.\")\n",
        "\n",
        "while True:\n",
        "    try:\n",
        "        box_width_inches = int(input(\"Enter the desired width of your box to the nearest whole inch (maximum 12 inches): \"))\n",
        "        if 1 <= box_width_inches <= 12:\n",
        "            box_width = box_width_inches * 90\n",
        "            break\n",
        "        else:\n",
        "            print(\"Error: Box width must be between 1 and 12 inches.\")\n",
        "    except ValueError:\n",
        "        print(\"Error: Invalid input. Please enter a valid numerical value for the width.\")\n",
        "\n",
        "dovetail_width = 11\n",
        "slot_width = 10  # Width of the slot\n",
        "slot_height = 5  # Height of the slot\n",
        "svg_filename = \"dovetail_box.svg\"\n",
        "box = open(svg_filename, \"w\")\n",
        "box.close\n",
        "\n",
        "def drawBox(height, width, x_initial, y_initial):\n",
        "    # Define corner points of the box\n",
        "    x1 = x_initial\n",
        "    y1 = y_initial\n",
        "    x2 = x1\n",
        "    y2 = y1 + height\n",
        "    x3 = x1 + width\n",
        "    y3 = y1\n",
        "    x4 = x3\n",
        "    y4 = y2\n",
        "\n",
        "    # Define SVG file content\n",
        "    svg_content = f'''\n",
        "    <svg width=\"1620\" height=\"1080\" xmlns=\"http://www.w3.org/2000/svg\">\n",
        "        <rect x=\"{x_initial}\" y=\"{y_initial}\" width=\"{box_width}\" height=\"{box_height}\" fill=\"none\" stroke=\"black\" stroke-width=\"1\"/>\n",
        "    '''\n",
        "    # Write SVG content to a file\n",
        "    box = open(svg_filename, \"a\")\n",
        "    box.write(svg_content)\n",
        "    box.close\n",
        "\n",
        "\n",
        "    # SIDES AND TOP/BOTTOM HERE\n",
        "\n",
        "\n",
        "def drawTSlot(height, width, x_initial, y_initial):\n",
        "   for i in range(1, int(width / 180)):\n",
        "      xa = int(180 - (0.5*90)) + i\n",
        "      ya = y_initial + slot_height\n",
        "      xb = xa\n",
        "      yb = ya + 11\n",
        "      xc = xa - 5\n",
        "      yc = yb\n",
        "      xd = xc\n",
        "      yd = ya + 28\n",
        "      xe = xa + 14\n",
        "      ye = yd\n",
        "      xf = xe\n",
        "      yf = yb\n",
        "      xg = xa + 9\n",
        "      yg = yb\n",
        "      xh = xg\n",
        "      yh = ya\n",
        "      slot_content = f'''\n",
        "      <polyline points=\"{xa},{ya} {xb},{yb} {xc},{yc} {xd},{yd} {xe},{ye} {xf},{yf} {xg},{yg} {xh},{yh} \" fill=\"none\" stroke=\"black\" stroke-width=\"1\"/>\n",
        "      </svg>\n",
        "      '''\n",
        "      box = open(svg_filename, \"a\")\n",
        "      box.write(slot_content)\n",
        "      box.close\n",
        "\n",
        "\n",
        "if __name__ == \"__main__\":\n",
        "    drawBox(box_height, box_width, 20, 20)\n",
        "    drawTSlot(box_height, box_width, 20, 20)"
      ],
      "metadata": {
        "id": "dA1UTVf9EOiB",
        "colab": {
          "base_uri": "https://localhost:8080/"
        },
        "outputId": "1efc14bf-94e3-4ee5-e206-74300177b9b9"
      },
      "execution_count": 34,
      "outputs": [
        {
          "name": "stdout",
          "output_type": "stream",
          "text": [
            "Enter the desired height of your box to the nearest whole inch (maximum 18 inches): 5\n",
            "Enter the desired width of your box to the nearest whole inch (maximum 12 inches): 5\n"
          ]
        }
      ]
    },
    {
      "cell_type": "code",
      "source": [
        "# Display box - for show to see what it will look like\n",
        "\n",
        "import matplotlib.pyplot as plt\n",
        "\n",
        "def drawBox(height, width, x_initial, y_initial):\n",
        "    dovetail_width = 11\n",
        "    slot_width = 10  # Width of the slot\n",
        "    slot_height = 5  # Height of the slot\n",
        "\n",
        "    # Define corner points of the box\n",
        "    x1 = x_initial\n",
        "    y1 = y_initial\n",
        "    x2 = x1\n",
        "    y2 = y1 + height\n",
        "    x3 = x1 + width\n",
        "    y3 = y1\n",
        "    x4 = x3\n",
        "    y4 = y2\n",
        "\n",
        "    # Create a new figure\n",
        "    fig, ax = plt.subplots(2, 3, figsize=(10, 6))\n",
        "\n",
        "    # Front side\n",
        "    ax[0, 0].plot([x1, x3], [y1, y3], 'k-', linewidth=1)\n",
        "    ax[0, 0].plot([x1, x1 + dovetail_width], [y1, y1], 'k-', linewidth=1)\n",
        "    ax[0, 0].plot([x3, x3 - dovetail_width], [y3, y3], 'k-', linewidth=1)\n",
        "    ax[0, 0].plot([x1 + dovetail_width, x1 + dovetail_width], [y1, y1 + dovetail_width], 'k-', linewidth=1)\n",
        "    ax[0, 0].plot([x3 - dovetail_width, x3 - dovetail_width], [y3, y3 + dovetail_width], 'k-', linewidth=1)\n",
        "    ax[0, 0].plot([x1 + dovetail_width, x3 - dovetail_width], [y1 + dovetail_width, y3 + dovetail_width], 'k-', linewidth=1)\n",
        "    ax[0, 0].axis('equal')\n",
        "    ax[0, 0].axis('off')\n",
        "    ax[0, 0].set_title('Front Side')\n",
        "\n",
        "    # Back side\n",
        "    ax[0, 1].plot([x2, x4], [y2, y4], 'k-', linewidth=1)\n",
        "    ax[0, 1].plot([x2, x2 + dovetail_width], [y2, y2], 'k-', linewidth=1)\n",
        "    ax[0, 1].plot([x4, x4 - dovetail_width], [y4, y4], 'k-', linewidth=1)\n",
        "    ax[0, 1].plot([x2 + dovetail_width, x2 + dovetail_width], [y2, y2 - dovetail_width], 'k-', linewidth=1)\n",
        "    ax[0, 1].plot([x4 - dovetail_width, x4 - dovetail_width], [y4, y4 - dovetail_width], 'k-', linewidth=1)\n",
        "    ax[0, 1].plot([x2 + dovetail_width, x4 - dovetail_width], [y2 - dovetail_width, y4 - dovetail_width], 'k-', linewidth=1)\n",
        "    ax[0, 1].axis('equal')\n",
        "    ax[0, 1].axis('off')\n",
        "    ax[0, 1].set_title('Back Side')\n",
        "\n",
        "    # Left side\n",
        "    ax[0, 2].plot([x1, x2], [y1, y2], 'k-', linewidth=1)\n",
        "    ax[0, 2].plot([x1, x1], [y1, y1 + slot_height], 'k-', linewidth=1)\n",
        "    ax[0, 2].plot([x2, x2], [y2, y2 - slot_height], 'k-', linewidth=1)\n",
        "    ax[0, 2].plot([x1, x2], [y1 + slot_height // 2, y2 - slot_height // 2], 'k-', linewidth=1)\n",
        "    ax[0, 2].axis('equal')\n",
        "    ax[0, 2].axis('off')\n",
        "    ax[0, 2].set_title('Left Side')\n",
        "\n",
        "    # Right side\n",
        "    ax[1, 0].plot([x3, x4], [y3, y4], 'k-', linewidth=1)\n",
        "    ax[1, 0].plot([x3, x3], [y3, y3 + slot_height], 'k-', linewidth=1)\n",
        "    ax[1, 0].plot([x4, x4], [y4, y4 - slot_height], 'k-', linewidth=1)\n",
        "    ax[1, 0].plot([x3, x4], [y3 + slot_height // 2, y4 - slot_height // 2], 'k-', linewidth=1)\n",
        "    ax[1, 0].axis('equal')\n",
        "    ax[1, 0].axis('off')\n",
        "    ax[1, 0].set_title('Right Side')\n",
        "\n",
        "    # Top side\n",
        "    ax[1, 1].plot([x1, x3], [y1, y3], 'k-', linewidth=1)\n",
        "    ax[1, 1].plot([x1, x1 + dovetail_width], [y1, y1], 'k-', linewidth=1)\n",
        "    ax[1, 1].plot([x3, x3 - dovetail_width], [y3, y3], 'k-', linewidth=1)\n",
        "    ax[1, 1].plot([x1 + dovetail_width, x1 + dovetail_width], [y1, y1 + dovetail_width], 'k-', linewidth=1)\n",
        "    ax[1, 1].plot([x3 - dovetail_width, x3 - dovetail_width], [y3, y3 + dovetail_width], 'k-', linewidth=1)\n",
        "    ax[1, 1].plot([x1 + dovetail_width, x3 - dovetail_width], [y1 + dovetail_width, y3 + dovetail_width], 'k-', linewidth=1)\n",
        "    ax[1, 1].axis('equal')\n",
        "    ax[1, 1].axis('off')\n",
        "    ax[1, 1].set_title('Top Side')\n",
        "\n",
        "    # Bottom side\n",
        "    ax[1, 2].plot([x2, x4], [y2, y4], 'k-', linewidth=1)\n",
        "    ax[1, 2].plot([x2, x2 + dovetail_width], [y2, y2], 'k-', linewidth=1)\n",
        "    ax[1, 2].plot([x4, x4 - dovetail_width], [y4, y4], 'k-', linewidth=1)\n",
        "    ax[1, 2].plot([x2 + dovetail_width, x2 + dovetail_width], [y2, y2 - dovetail_width], 'k-', linewidth=1)\n",
        "    ax[1, 2].plot([x4 - dovetail_width, x4 - dovetail_width], [y4, y4 - dovetail_width], 'k-', linewidth=1)\n",
        "    ax[1, 2].plot([x2 + dovetail_width, x4 - dovetail_width], [y2 - dovetail_width, y4 - dovetail_width], 'k-', linewidth=1)\n",
        "    ax[1, 2].axis('equal')\n",
        "    ax[1, 2].axis('off')\n",
        "    ax[1, 2].set_title('Bottom Side')\n",
        "\n",
        "    plt.tight_layout()\n",
        "    plt.show()\n",
        "\n",
        "if __name__ == \"__main__\":\n",
        "    drawBox(box_height, box_width, 20, 20)"
      ],
      "metadata": {
        "colab": {
          "base_uri": "https://localhost:8080/",
          "height": 607
        },
        "id": "tzlzyvOKE7OZ",
        "outputId": "46fc599a-ff21-4a40-af71-adea32aa2f58"
      },
      "execution_count": null,
      "outputs": [
        {
          "output_type": "display_data",
          "data": {
            "text/plain": [
              "<Figure size 1000x600 with 6 Axes>"
            ],
            "image/png": "[encoded data removed]"
          },
          "metadata": {}
        }
      ]
    }
  ]
}