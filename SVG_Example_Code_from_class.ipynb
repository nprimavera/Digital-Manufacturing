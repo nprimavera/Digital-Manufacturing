{
  "nbformat": 4,
  "nbformat_minor": 0,
  "metadata": {
    "colab": {
      "provenance": [],
      "authorship_tag": "ABX9TyPRRYwLN/Ca6bHuVybrkB84",
      "include_colab_link": true
    },
    "kernelspec": {
      "name": "python3",
      "display_name": "Python 3"
    },
    "language_info": {
      "name": "python"
    }
  },
  "cells": [
    {
      "cell_type": "markdown",
      "metadata": {
        "id": "view-in-github",
        "colab_type": "text"
      },
      "source": [
        "<a href=\"https://colab.research.google.com/github/nprimavera/Digital-Manufacturing/blob/main/SVG_Example_Code_from_class.ipynb\" target=\"_parent\"><img src=\"https://colab.research.google.com/assets/colab-badge.svg\" alt=\"Open In Colab\"/></a>"
      ]
    },
    {
      "cell_type": "code",
      "source": [
        "# HW1 Assignment - Laser Cutter Box\n",
        "# Code from class"
      ],
      "metadata": {
        "id": "noJHm5MtwyfK"
      },
      "execution_count": null,
      "outputs": []
    },
    {
      "cell_type": "code",
      "source": [
        "# For our desing (HW1 assignment), just use line and circle"
      ],
      "metadata": {
        "id": "8bUEnGnqqAhB"
      },
      "execution_count": null,
      "outputs": []
    },
    {
      "cell_type": "markdown",
      "source": [
        "Notes:\n",
        "- Generate the text file yourself --> do not use an SVG library\n",
        "- Write in Python and then use the code to generate a .SVG file\n",
        "- The order of the file matters when cutting\n",
        "- Don't manually edit the svg --> edit the Python\n",
        "- SVG starts in the top left of the screen to avoid negative coordinates and to be compatible with text"
      ],
      "metadata": {
        "id": "1ErBf-4Yo996"
      }
    },
    {
      "cell_type": "code",
      "execution_count": null,
      "metadata": {
        "id": "lK-eAIvRkApK"
      },
      "outputs": [],
      "source": [
        "# Examples from class using SVG Format - these are already in XML, not Python (will produce errors)"
      ]
    },
    {
      "cell_type": "code",
      "source": [
        " <?xml version=\"1.0\" encoding=\"UTF-8\" ?>\n",
        " <svg xmlns=\"http://www.w3.org/2000/svg\" version=\"1.1\">\n",
        "    <rect x=\"25\" y=\"25\" width=\"200\" height=\"200\" fill=\"lime\" stroke-width=\"4\" stroke=\"pink\" />\n",
        "    <circle cx=\"125\" cy=\"125\" r=\"75\" fill=\"orange\" />\n",
        "    <polyline points=\"50,150 50,200 200,200 200,100\" stroke=\"red\" stroke-width=\"4\" fill=\"none\" />\n",
        "    <line x1=\"50\" y1=\"50\" x2=\"200\" y2=\"200\" stroke=\"blue\" stroke-width=\"4\" />\n",
        "</svg>"
      ],
      "metadata": {
        "colab": {
          "base_uri": "https://localhost:8080/",
          "height": 140
        },
        "id": "dGsBE3MGkGWh",
        "outputId": "722520f1-ee0a-4c6e-928e-4943e07de424"
      },
      "execution_count": null,
      "outputs": [
        {
          "output_type": "error",
          "ename": "SyntaxError",
          "evalue": "invalid syntax (<ipython-input-18-34d22bcadca5>, line 1)",
          "traceback": [
            "\u001b[0;36m  File \u001b[0;32m\"<ipython-input-18-34d22bcadca5>\"\u001b[0;36m, line \u001b[0;32m1\u001b[0m\n\u001b[0;31m    <?xml version=\"1.0\" encoding=\"UTF-8\" ?>\u001b[0m\n\u001b[0m    ^\u001b[0m\n\u001b[0;31mSyntaxError\u001b[0m\u001b[0;31m:\u001b[0m invalid syntax\n"
          ]
        }
      ]
    },
    {
      "cell_type": "code",
      "source": [
        "<?xml version=\"1.0\" encoding=\"UTF-8\" ?>\n",
        "<svg xmlns=\"http://www.w3.org/2000/svg\" version=\"1.1\">\n",
        "  <polygon points=\"0,0 0,10 5,10, 5,5, 10,5, 10,10 15,10,15,0\"\n",
        "  stroke=\"black\" stroke-width=\"1\" fill=\"none\" />\n",
        "</svg>"
      ],
      "metadata": {
        "colab": {
          "base_uri": "https://localhost:8080/",
          "height": 140
        },
        "id": "r9PQcAoekTFP",
        "outputId": "59a414d3-0c1f-4b8c-d632-c27bc7746912"
      },
      "execution_count": null,
      "outputs": [
        {
          "output_type": "error",
          "ename": "SyntaxError",
          "evalue": "invalid syntax (<ipython-input-19-9e0a63e99233>, line 1)",
          "traceback": [
            "\u001b[0;36m  File \u001b[0;32m\"<ipython-input-19-9e0a63e99233>\"\u001b[0;36m, line \u001b[0;32m1\u001b[0m\n\u001b[0;31m    <?xml version=\"1.0\" encoding=\"UTF-8\" ?>\u001b[0m\n\u001b[0m    ^\u001b[0m\n\u001b[0;31mSyntaxError\u001b[0m\u001b[0;31m:\u001b[0m invalid syntax\n"
          ]
        }
      ]
    },
    {
      "cell_type": "code",
      "source": [
        "<?xml version=\"1.0\" encoding=\"UTF-8\" ?>\n",
        "<svg xmlns=\"http://www.w3.org/2000/svg\" version=\"1.1\">\n",
        "  <polygon points=\"0,0 0,10 5,10, 5,5, 10,5, 10,10 15,10,15,0\"\n",
        "  stroke=\"black\" stroke-width=\"1\" fill=\"none\" />\n",
        "</svg>"
      ],
      "metadata": {
        "colab": {
          "base_uri": "https://localhost:8080/",
          "height": 140
        },
        "id": "YodfbbwPmP4y",
        "outputId": "f20e04a3-af4a-4996-a9d2-d28c77a8aede"
      },
      "execution_count": null,
      "outputs": [
        {
          "output_type": "error",
          "ename": "SyntaxError",
          "evalue": "invalid syntax (<ipython-input-20-9e0a63e99233>, line 1)",
          "traceback": [
            "\u001b[0;36m  File \u001b[0;32m\"<ipython-input-20-9e0a63e99233>\"\u001b[0;36m, line \u001b[0;32m1\u001b[0m\n\u001b[0;31m    <?xml version=\"1.0\" encoding=\"UTF-8\" ?>\u001b[0m\n\u001b[0m    ^\u001b[0m\n\u001b[0;31mSyntaxError\u001b[0m\u001b[0;31m:\u001b[0m invalid syntax\n"
          ]
        }
      ]
    },
    {
      "cell_type": "code",
      "source": [
        "<?xml version=\"1.0\" encoding=\"UTF-8\" ?>\n",
        "<svg xmlns=\"http://www.w3.org/2000/svg\" version=\"1.1\">\n",
        "  <rect x=\"0\" y=\"0\" width=\"30\" height=\"20\" rx=\"3\" ry=\"3\"\n",
        "    style=\"stroke-width:1;stroke:rgb(0,0,0);fill:none\" />\n",
        "  <circle cx=\"20\" cy=\"10\" r=\"2.5\"\n",
        "    stroke=\"green\" stroke-width=\"1\" fill=\"none\" />\n",
        "  <line x1=\"0\" y1=\"10\" x2=\"10\" y2=\"10\"\n",
        "    stroke=\"green\" stroke-width=\"1\">\n",
        "</svg>"
      ],
      "metadata": {
        "colab": {
          "base_uri": "https://localhost:8080/",
          "height": 140
        },
        "id": "xAhJ25onn-L8",
        "outputId": "b27bd16f-8d2a-4f35-bde7-a70f8cfef475"
      },
      "execution_count": null,
      "outputs": [
        {
          "output_type": "error",
          "ename": "SyntaxError",
          "evalue": "invalid syntax (<ipython-input-21-eb40f243bff8>, line 1)",
          "traceback": [
            "\u001b[0;36m  File \u001b[0;32m\"<ipython-input-21-eb40f243bff8>\"\u001b[0;36m, line \u001b[0;32m1\u001b[0m\n\u001b[0;31m    <?xml version=\"1.0\" encoding=\"UTF-8\" ?>\u001b[0m\n\u001b[0m    ^\u001b[0m\n\u001b[0;31mSyntaxError\u001b[0m\u001b[0;31m:\u001b[0m invalid syntax\n"
          ]
        }
      ]
    },
    {
      "cell_type": "code",
      "source": [
        "<svg version=\"1.1\"\n",
        "      xmlns = \"http://www.w3.org/2000/svg\" xmlns:xlink=\"http://www.w3.org/1999/xlink\"\n",
        "      width = \"200\" height = \"200\">\n",
        "    <image x=\"90\" y=\"-65\" width=\"128\" height=\"146\" transform=\"rotate(45)\"\n",
        "      xlink:href=\"https://developer.mozilla.org/media/img/mdn-logo.png\"/>\n",
        "</svg>"
      ],
      "metadata": {
        "colab": {
          "base_uri": "https://localhost:8080/",
          "height": 140
        },
        "id": "hn7bOfELoIUE",
        "outputId": "001c89f9-bc20-4b3f-954f-10d7108ea40c"
      },
      "execution_count": null,
      "outputs": [
        {
          "output_type": "error",
          "ename": "IndentationError",
          "evalue": "unindent does not match any outer indentation level (<tokenize>, line 4)",
          "traceback": [
            "\u001b[0;36m  File \u001b[0;32m\"<tokenize>\"\u001b[0;36m, line \u001b[0;32m4\u001b[0m\n\u001b[0;31m    <image x=\"90\" y=\"-65\" width=\"128\" height=\"146\" transform=\"rotate(45)\"\u001b[0m\n\u001b[0m    ^\u001b[0m\n\u001b[0;31mIndentationError\u001b[0m\u001b[0;31m:\u001b[0m unindent does not match any outer indentation level\n"
          ]
        }
      ]
    },
    {
      "cell_type": "code",
      "source": [
        "# SVG inside another SVG\n",
        "<svg width=\"100%\" height=\"100%\" viewBox=\"-100 -100 200 200\" version=\"1.1\"\n",
        "     xmlns=\"http://www.w3.org/2000/svg\">\n",
        "  <circle cx=\"-50\" cy=\"-50\" r=\"30\" style=\"fill:red\" />\n",
        "  <image x=\"10\" y=\"20\" width=\"80\" height=\"80\" href=\"recursion.svg\" />\n",
        "</svg>"
      ],
      "metadata": {
        "colab": {
          "base_uri": "https://localhost:8080/",
          "height": 140
        },
        "id": "GW-zskijrQtR",
        "outputId": "d7b63ed2-3d00-4a18-94f9-d30cb4368574"
      },
      "execution_count": null,
      "outputs": [
        {
          "output_type": "error",
          "ename": "IndentationError",
          "evalue": "unindent does not match any outer indentation level (<tokenize>, line 4)",
          "traceback": [
            "\u001b[0;36m  File \u001b[0;32m\"<tokenize>\"\u001b[0;36m, line \u001b[0;32m4\u001b[0m\n\u001b[0;31m    <circle cx=\"-50\" cy=\"-50\" r=\"30\" style=\"fill:red\" />\u001b[0m\n\u001b[0m    ^\u001b[0m\n\u001b[0;31mIndentationError\u001b[0m\u001b[0;31m:\u001b[0m unindent does not match any outer indentation level\n"
          ]
        }
      ]
    },
    {
      "cell_type": "code",
      "source": [
        "# SVG inside another SVG\n",
        "<svg viewBox = \"0 0 1000 1000\" version = \"1.1\">\n",
        "    <defs>\n",
        "      <g id=\"myGroup\">\n",
        "        <circle cx = \"200\" cy = \"200\" r =\"200\" fill = \"yellow\" stroke = \"black\" stroke-width = \"1.0\">\n",
        "      </g>\n",
        "    </defs>\n",
        "\n",
        "    <use x = \"100\" y = \"100\" xlink:href = \"#myGroup\"/>\n",
        "    <use x = \"100\" y = \"650\" xlink:href = \"#myGroup\"/>\n",
        "</svg>"
      ],
      "metadata": {
        "colab": {
          "base_uri": "https://localhost:8080/",
          "height": 140
        },
        "id": "B4pCexessIa0",
        "outputId": "5cf68fdb-70c3-4c0e-bc7e-8d4cf886c10f"
      },
      "execution_count": null,
      "outputs": [
        {
          "output_type": "error",
          "ename": "SyntaxError",
          "evalue": "invalid syntax (<ipython-input-29-bdc7cc193396>, line 2)",
          "traceback": [
            "\u001b[0;36m  File \u001b[0;32m\"<ipython-input-29-bdc7cc193396>\"\u001b[0;36m, line \u001b[0;32m2\u001b[0m\n\u001b[0;31m    <svg viewBox = \"0 0 1000 1000\" version = \"1.1\">\u001b[0m\n\u001b[0m    ^\u001b[0m\n\u001b[0;31mSyntaxError\u001b[0m\u001b[0;31m:\u001b[0m invalid syntax\n"
          ]
        }
      ]
    },
    {
      "cell_type": "code",
      "source": [
        "# Writing to a text file in Python"
      ],
      "metadata": {
        "id": "rRuNiKbJt_uB"
      },
      "execution_count": null,
      "outputs": []
    },
    {
      "cell_type": "code",
      "source": [
        "f = open(\"demofile.svg\", \"w\")\n",
        "f.write(“Hello %i World %5.2f\\n\" % (5, 2.2))\n",
        "f.close()"
      ],
      "metadata": {
        "colab": {
          "base_uri": "https://localhost:8080/",
          "height": 140
        },
        "id": "7l0f5jmivrSn",
        "outputId": "5e3990cb-c1ab-4ae7-f0ac-64b8e39060a2"
      },
      "execution_count": null,
      "outputs": [
        {
          "output_type": "error",
          "ename": "SyntaxError",
          "evalue": "invalid character '“' (U+201C) (<ipython-input-32-9352a857ec56>, line 2)",
          "traceback": [
            "\u001b[0;36m  File \u001b[0;32m\"<ipython-input-32-9352a857ec56>\"\u001b[0;36m, line \u001b[0;32m2\u001b[0m\n\u001b[0;31m    f.write(“Hello %i World %5.2f\\n\" % (5, 2.2))\u001b[0m\n\u001b[0m            ^\u001b[0m\n\u001b[0;31mSyntaxError\u001b[0m\u001b[0;31m:\u001b[0m invalid character '“' (U+201C)\n"
          ]
        }
      ]
    }
  ]
}