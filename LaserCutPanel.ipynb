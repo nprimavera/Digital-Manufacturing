{
  "nbformat": 4,
  "nbformat_minor": 0,
  "metadata": {
    "colab": {
      "provenance": []
    },
    "kernelspec": {
      "name": "python3",
      "display_name": "Python 3"
    },
    "language_info": {
      "name": "python"
    }
  },
  "cells": [
    {
      "cell_type": "code",
      "execution_count": 1,
      "metadata": {
        "id": "VL7OwYT-Uq2x",
        "outputId": "e59f3854-2b5e-4b70-f4a9-f694ac3dcb90",
        "colab": {
          "base_uri": "https://localhost:8080/"
        }
      },
      "outputs": [
        {
          "output_type": "stream",
          "name": "stdout",
          "text": [
            "Collecting svgwrite\n",
            "  Downloading svgwrite-1.4.3-py3-none-any.whl (67 kB)\n",
            "\u001b[?25l     \u001b[90m━━━━━━━━━━━━━━━━━━━━━━━━━━━━━━━━━━━━━━━━\u001b[0m \u001b[32m0.0/67.1 kB\u001b[0m \u001b[31m?\u001b[0m eta \u001b[36m-:--:--\u001b[0m\r\u001b[2K     \u001b[90m━━━━━━━━━━━━━━━━━━━━━━━━━━━━━━━━━━━━━━━━\u001b[0m \u001b[32m67.1/67.1 kB\u001b[0m \u001b[31m1.9 MB/s\u001b[0m eta \u001b[36m0:00:00\u001b[0m\n",
            "\u001b[?25hInstalling collected packages: svgwrite\n",
            "Successfully installed svgwrite-1.4.3\n",
            "Enter the desired width of your box to the nearest whole inch: 4\n",
            "Enter the desired height of your box to the nearest whole inch: 5\n",
            "SVG file 'laser_cut_box.svg' has been created successfully.\n"
          ]
        }
      ],
      "source": [
        "!pip install svgwrite\n",
        "\n",
        "import svgwrite\n",
        "\n",
        "def draw_dovetail_box(svg_file, width, height, thickness, dovetail_width, dovetail_height):\n",
        "    # Create SVG drawing object\n",
        "    dwg = svgwrite.Drawing(svg_file, profile='tiny')\n",
        "\n",
        "    # Define box dimensions\n",
        "    half_thickness = thickness / 2\n",
        "    box_width = width - thickness\n",
        "    box_height = height - thickness\n",
        "\n",
        "    # Draw outer box\n",
        "    dwg.add(dwg.rect((half_thickness, half_thickness), (box_width, box_height), fill='none', stroke='black'))\n",
        "\n",
        "    # Draw dovetails\n",
        "    for i in range(1, int(box_width / (dovetail_width * 2))):\n",
        "        x_top_bottom = half_thickness + i * dovetail_width * 2\n",
        "        y_top = half_thickness\n",
        "        y_bottom = box_height - half_thickness\n",
        "\n",
        "\n",
        "        # Draw dovetail joint on top of box\n",
        "        dwg.add(dwg.rect((x_top_bottom, y_top), (dovetail_width, dovetail_height), fill='none', stroke='black'))\n",
        "\n",
        "        # Draw dovetail joint on bottom of box\n",
        "        dwg.add(dwg.rect((x_top_bottom, y_bottom), (dovetail_width, dovetail_height), fill='none', stroke='black'))\n",
        "\n",
        "    for i in range(1, int(box_height / (dovetail_width * 2))):\n",
        "        x_left = half_thickness\n",
        "        x_right = box_width - half_thickness\n",
        "        y_sides = half_thickness + i * dovetail_width * 2\n",
        "\n",
        "\n",
        "        # Draw dovetail joint on top of box\n",
        "        dwg.add(dwg.rect((x_left, y_sides), (dovetail_height, dovetail_width), fill='none', stroke='black'))\n",
        "\n",
        "        # Draw dovetail joint on bottom of box\n",
        "        dwg.add(dwg.rect((x_right, y_sides), (dovetail_height, dovetail_width), fill='none', stroke='black'))\n",
        "\n",
        "\n",
        "    # Save the SVG file\n",
        "    dwg.save()\n",
        "\n",
        "if __name__ == \"__main__\":\n",
        "\n",
        "      try:\n",
        "        svg_filename = \"laser_cut_box.svg\"\n",
        "\n",
        "        # Get user input for the dimensions of the box\n",
        "        box_width = int(input(\"Enter the desired width of your box to the nearest whole inch: \")) * 90\n",
        "        box_height = int(input(\"Enter the desired height of your box to the nearest whole inch: \")) * 90\n",
        "        material_thickness = 11\n",
        "        dovetail_width = 30\n",
        "        dovetail_height = 11\n",
        "\n",
        "        # Create and save the SVG file\n",
        "        draw_dovetail_box(svg_filename, box_width, box_height, material_thickness, dovetail_width, dovetail_height)\n",
        "\n",
        "        print(f\"SVG file 'laser_cut_box.svg' has been created successfully.\")\n",
        "      except ValueError:\n",
        "        print(\"Please enter a valid numerical value for the side length.\")\n",
        "\n",
        "\n",
        "\n",
        "\n"
      ]
    }
  ]
}