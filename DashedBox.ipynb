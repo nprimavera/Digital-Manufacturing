{
  "nbformat": 4,
  "nbformat_minor": 0,
  "metadata": {
    "colab": {
      "provenance": [],
      "authorship_tag": "ABX9TyNX+fILr3lEuh5cCZeDQBae",
      "include_colab_link": true
    },
    "kernelspec": {
      "name": "python3",
      "display_name": "Python 3"
    },
    "language_info": {
      "name": "python"
    }
  },
  "cells": [
    {
      "cell_type": "markdown",
      "metadata": {
        "id": "view-in-github",
        "colab_type": "text"
      },
      "source": [
        "<a href=\"https://colab.research.google.com/github/nprimavera/Laser-Cutting/blob/main/DashedBox.ipynb\" target=\"_parent\"><img src=\"https://colab.research.google.com/assets/colab-badge.svg\" alt=\"Open In Colab\"/></a>"
      ]
    },
    {
      "cell_type": "code",
      "execution_count": null,
      "metadata": {
        "colab": {
          "base_uri": "https://localhost:8080/"
        },
        "id": "U4iCahNe47zL",
        "outputId": "a798fa9d-78f7-42d9-fc9f-72b115859e6c"
      },
      "outputs": [
        {
          "name": "stdout",
          "output_type": "stream",
          "text": [
            "Enter the desired height of your box to the nearest whole inch: 3\n",
            "Enter the desired width of your box to the nearest whole inch: 2\n"
          ]
        }
      ],
      "source": [
        "# Define box variables based off user input\n",
        "box_height = int(input(\"Enter the desired height of your box to the nearest whole inch: \")) * 90\n",
        "box_width = int(input(\"Enter the desired width of your box to the nearest whole inch: \")) * 90\n",
        "\n",
        "dovetail_width = 11\n",
        "\n",
        "def drawBox(height, width, x_initial, y_initial):\n",
        "  x1 =  x_initial # Arbitrary starting point\n",
        "  y1 = y_initial  # Arbitrary starting point\n",
        "  x2 = x1  # Must match x1_left_out for a straight vertical line\n",
        "  y2 = box_height + y1   # The + y_initial is offset to account for starting point\n",
        "\n",
        "  x3 = x1 + box_width  # Width of dovetail is 11 px so 11 + x_initial to offset the inner line\n",
        "  y3 = y1  # Must match same arbitrary point as y1_left_out\n",
        "  x4 = x3\n",
        "  y4 = y2\n",
        "\n",
        "  # Define SVG file content\n",
        "  svg_content = f'''\n",
        "  <svg width=\"1620\" height=\"1080\" xmlns=\"http://www.w3.org/2000/svg\">\n",
        "    <line x1=\"{x1}\" y1=\"{y1}\" x2=\"{x2}\" y2=\"{y2}\" stroke=\"black\" stroke-width=\"1\" stroke-dasharray=\"45,45\"/>\n",
        "    <line x1=\"{x1 + dovetail_width}\" y1=\"{y1}\" x2=\"{x2 + dovetail_width}\" y2=\"{y2}\" stroke=\"black\" stroke-width=\"1\" stroke-dasharray=\"45,45\" stroke-dashoffset=\"45\"/>\n",
        "    <line x1=\"{x3}\" y1=\"{y3 + dovetail_width}\" x2=\"{x4}\" y2=\"{y4}\" stroke=\"black\" stroke-width=\"1\" stroke-dasharray=\"45,45\" stroke-dashoffset=\"{dovetail_width}\"/>\n",
        "    <line x1=\"{x3 - dovetail_width}\" y1=\"{y3 + dovetail_width}\" x2=\"{x4 - dovetail_width}\" y2=\"{y4 - dovetail_width}\" stroke=\"black\" stroke-width=\"1\" stroke-dasharray=\"45,45\" stroke-dashoffset=\"{dovetail_width - 45}\"/>\n",
        "\n",
        "    <line x1=\"{x1}\" y1=\"{y1}\" x2=\"{x3}\" y2=\"{y3}\" stroke=\"black\" stroke-width=\"1\" stroke-dasharray=\"45,45\"/>\n",
        "    <line x1=\"{x1}\" y1=\"{y1 + dovetail_width}\" x2=\"{x3}\" y2=\"{y3 + dovetail_width}\" stroke=\"black\" stroke-width=\"1\" stroke-dasharray=\"45,45\" stroke-dashoffset=\"45\"/>\n",
        "    <line x1=\"{x2 + dovetail_width}\" y1=\"{y2}\" x2=\"{x4}\" y2=\"{y4}\" stroke=\"black\" stroke-width=\"1\" stroke-dasharray=\"45,45\" stroke-dashoffset=\"{dovetail_width}\"/>\n",
        "    <line x1=\"{x2 + dovetail_width}\" y1=\"{y2 - dovetail_width}\" x2=\"{x4 - dovetail_width}\" y2=\"{y4 - dovetail_width}\" stroke=\"black\" stroke-width=\"1\" stroke-dasharray=\"45,45\" stroke-dashoffset=\"{dovetail_width - 45}\"/>\n",
        "  </svg>\n",
        "  '''\n",
        "\n",
        "  # Write SVG content to a file\n",
        "  svg_filename = \"dashed_line.svg\"\n",
        "  with open(svg_filename, \"w\") as svg_file:\n",
        "      svg_file.write(svg_content)\n",
        "\n",
        "if __name__ == \"__main__\":\n",
        "\n",
        "      drawBox(box_height, box_width, 20, 20)\n"
      ]
    }
  ]
}