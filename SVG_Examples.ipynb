{
  "nbformat": 4,
  "nbformat_minor": 0,
  "metadata": {
    "colab": {
      "provenance": [],
      "authorship_tag": "ABX9TyNmG7NA0HiknWHLXjKnclZ0",
      "include_colab_link": true
    },
    "kernelspec": {
      "name": "python3",
      "display_name": "Python 3"
    },
    "language_info": {
      "name": "python"
    }
  },
  "cells": [
    {
      "cell_type": "markdown",
      "metadata": {
        "id": "view-in-github",
        "colab_type": "text"
      },
      "source": [
        "<a href=\"https://colab.research.google.com/github/nprimavera/Digital-Manufacturing/blob/main/SVG_Examples.ipynb\" target=\"_parent\"><img src=\"https://colab.research.google.com/assets/colab-badge.svg\" alt=\"Open In Colab\"/></a>"
      ]
    },
    {
      "cell_type": "code",
      "source": [
        "# HW1 Assignment - Laser Cutter Box\n",
        "# Code from class"
      ],
      "metadata": {
        "id": "noJHm5MtwyfK"
      },
      "execution_count": null,
      "outputs": []
    },
    {
      "cell_type": "code",
      "source": [
        "# For our desing (HW1 assignment), just use line and circle"
      ],
      "metadata": {
        "id": "8bUEnGnqqAhB"
      },
      "execution_count": null,
      "outputs": []
    },
    {
      "cell_type": "markdown",
      "source": [
        "Notes:\n",
        "- Generate the text file yourself --> do not use an SVG library\n",
        "- Write in Python and then use the code to generate a .SVG file\n",
        "- The order of the file matters when cutting\n",
        "- Don't manually edit the svg --> edit the Python\n",
        "- SVG starts in the top left of the screen to avoid negative coordinates and to be compatible with text"
      ],
      "metadata": {
        "id": "1ErBf-4Yo996"
      }
    },
    {
      "cell_type": "code",
      "source": [
        "# installing an SVG library - not allowed to do for the assignment\n",
        "pip install svgwrite"
      ],
      "metadata": {
        "colab": {
          "base_uri": "https://localhost:8080/",
          "height": 140
        },
        "id": "a0dkSXnBTUvj",
        "outputId": "9e3aca91-a7a0-4a30-cff0-ec6458cf6afb"
      },
      "execution_count": 10,
      "outputs": [
        {
          "output_type": "error",
          "ename": "SyntaxError",
          "evalue": "invalid syntax (<ipython-input-10-251a67bdee7d>, line 2)",
          "traceback": [
            "\u001b[0;36m  File \u001b[0;32m\"<ipython-input-10-251a67bdee7d>\"\u001b[0;36m, line \u001b[0;32m2\u001b[0m\n\u001b[0;31m    pip install svgwrite\u001b[0m\n\u001b[0m        ^\u001b[0m\n\u001b[0;31mSyntaxError\u001b[0m\u001b[0;31m:\u001b[0m invalid syntax\n"
          ]
        }
      ]
    },
    {
      "cell_type": "code",
      "source": [
        "# Using an SVG library - not allowed to do for assignment\n",
        "import svgwrite\n",
        "\n",
        "def create_svg(circle):\n",
        "    # Create an SVG Drawing object\n",
        "    dwg = svgwrite.Drawing(circle, profile='full')\n",
        "\n",
        "    # Add shapes, text, etc.\n",
        "    dwg.add(dwg.circle(center=(50, 50), r=30, fill='red'))\n",
        "    dwg.add(dwg.text('SVG Example', insert=(10, 80), fill='black'))\n",
        "\n",
        "    # Save the SVG file\n",
        "    dwg.save()\n",
        "\n",
        "# Example usage\n",
        "create_svg(\"circle.svg\")"
      ],
      "metadata": {
        "id": "DNsQIm-tTFoV"
      },
      "execution_count": 24,
      "outputs": []
    },
    {
      "cell_type": "code",
      "source": [
        "# Without using an SVG library\n",
        "def create_svg(filename):\n",
        "    # Define SVG content as a string\n",
        "    svg_content = '''\n",
        "    <svg xmlns=\"http://www.w3.org/2000/svg\" width=\"100\" height=\"100\">\n",
        "        <circle cx=\"50\" cy=\"50\" r=\"30\" fill=\"red\"/>\n",
        "        <text x=\"10\" y=\"80\" fill=\"black\">SVG Example</text>\n",
        "    </svg>\n",
        "    '''\n",
        "\n",
        "    # Write the SVG content to the file\n",
        "    with open(filename, 'w') as svg_file:  # Opens a file for writing. Creates the file if it does not exist. Overwrites the file if it exists.\n",
        "        svg_file.write(svg_content)\n",
        "\n",
        "# Example usage\n",
        "create_svg(\"example.svg\")   # creates an SVG file called example.svg"
      ],
      "metadata": {
        "id": "m22Ou7UlTGWC"
      },
      "execution_count": 27,
      "outputs": []
    },
    {
      "cell_type": "code",
      "source": [
        "# How to print an SVG file\n",
        "def create_svg():\n",
        "    # Define SVG content as a string\n",
        "    svg_content = '''\n",
        "    <svg xmlns=\"http://www.w3.org/2000/svg\" width=\"100\" height=\"100\">\n",
        "        <circle cx=\"50\" cy=\"50\" r=\"30\" fill=\"red\"/>\n",
        "        <text x=\"10\" y=\"80\" fill=\"black\">SVG Example</text>\n",
        "    </svg>\n",
        "    '''\n",
        "\n",
        "    # Print the SVG content to the console\n",
        "    print(svg_content)\n",
        "\n",
        "# Example usage - prints out the contents of the SVG file\n",
        "create_svg()"
      ],
      "metadata": {
        "colab": {
          "base_uri": "https://localhost:8080/"
        },
        "id": "3obNsPVLU0gl",
        "outputId": "ddd6d55a-b276-4638-9ad1-98cc85beb0f4"
      },
      "execution_count": 23,
      "outputs": [
        {
          "output_type": "stream",
          "name": "stdout",
          "text": [
            "\n",
            "    <svg xmlns=\"http://www.w3.org/2000/svg\" width=\"100\" height=\"100\">\n",
            "        <circle cx=\"50\" cy=\"50\" r=\"30\" fill=\"red\"/>\n",
            "        <text x=\"10\" y=\"80\" fill=\"black\">SVG Example</text>\n",
            "    </svg>\n",
            "    \n"
          ]
        }
      ]
    },
    {
      "cell_type": "code",
      "execution_count": null,
      "metadata": {
        "id": "lK-eAIvRkApK"
      },
      "outputs": [],
      "source": [
        "# Examples from class using SVG Format"
      ]
    },
    {
      "cell_type": "code",
      "source": [
        "def create_svg(polygon):\n",
        "    # Define SVG content as a string\n",
        "    svg_content = '''\n",
        "    <?xml version=\"1.0\" encoding=\"UTF-8\" ?>\n",
        "    <svg xmlns=\"http://www.w3.org/2000/svg\" version=\"1.1\">\n",
        "      <polygon points=\"0,0 0,10 5,10, 5,5, 10,5, 10,10 15,10,15,0\"\n",
        "      stroke=\"black\" stroke-width=\"1\" fill=\"none\" />\n",
        "    </svg>\n",
        "    '''\n",
        "\n",
        "    # Write the SVG content to the file\n",
        "    with open(polygon, 'w') as svg_file:\n",
        "        svg_file.write(svg_content)\n",
        "\n",
        "# Example usage\n",
        "create_svg(\"polygon.svg\")   # creates an SVG file called example.svg"
      ],
      "metadata": {
        "id": "r9PQcAoekTFP"
      },
      "execution_count": 30,
      "outputs": []
    },
    {
      "cell_type": "code",
      "source": [
        "def create_svg(shapes):\n",
        "    svg_content = '''\n",
        "    <?xml version=\"1.0\" encoding=\"UTF-8\" ?>\n",
        "    <svg xmlns=\"http://www.w3.org/2000/svg\" version=\"1.1\">\n",
        "      <rect x=\"0\" y=\"0\" width=\"30\" height=\"20\" rx=\"3\" ry=\"3\"\n",
        "        style=\"stroke-width:1;stroke:rgb(0,0,0);fill:none\" />\n",
        "      <circle cx=\"20\" cy=\"10\" r=\"2.5\"\n",
        "        stroke=\"green\" stroke-width=\"1\" fill=\"none\" />\n",
        "      <line x1=\"0\" y1=\"10\" x2=\"10\" y2=\"10\"\n",
        "        stroke=\"green\" stroke-width=\"1\">\n",
        "    </svg>\n",
        "    '''\n",
        "\n",
        "    with open(shapes, 'w') as svg_file:\n",
        "      svg_file.write(svg_content)\n",
        "\n",
        "create_svg(\"shapes.svg\")"
      ],
      "metadata": {
        "id": "xAhJ25onn-L8"
      },
      "execution_count": 31,
      "outputs": []
    },
    {
      "cell_type": "code",
      "source": [
        "def create_svg(shape):\n",
        "    svg_content = '''\n",
        "    <svg version=\"1.1\"\n",
        "          xmlns = \"http://www.w3.org/2000/svg\" xmlns:xlink=\"http://www.w3.org/1999/xlink\"\n",
        "          width = \"200\" height = \"200\">\n",
        "        <image x=\"90\" y=\"-65\" width=\"128\" height=\"146\" transform=\"rotate(45)\"\n",
        "          xlink:href=\"https://developer.mozilla.org/media/img/mdn-logo.png\"/>\n",
        "    </svg>\n",
        "    '''\n",
        "\n",
        "    with open(shape, 'w') as svg_file:\n",
        "      svg_file.write(svg_content)\n",
        "\n",
        "create_svg(\"shape.svg\")"
      ],
      "metadata": {
        "id": "hn7bOfELoIUE"
      },
      "execution_count": 37,
      "outputs": []
    },
    {
      "cell_type": "code",
      "source": [
        "# SVG inside another SVG\n",
        "def create_svg(inside):\n",
        "    svg_content = '''\n",
        "    <svg width=\"100%\" height=\"100%\" viewBox=\"-100 -100 200 200\" version=\"1.1\"\n",
        "        xmlns=\"http://www.w3.org/2000/svg\">\n",
        "      <circle cx=\"-50\" cy=\"-50\" r=\"30\" style=\"fill:red\" />\n",
        "      <image x=\"10\" y=\"20\" width=\"80\" height=\"80\" href=\"recursion.svg\" />\n",
        "    </svg>\n",
        "    '''\n",
        "\n",
        "    with open(inside, 'w') as svg_file:\n",
        "      svg_file.write(svg_content)\n",
        "\n",
        "create_svg(\"inside.svg\")"
      ],
      "metadata": {
        "id": "GW-zskijrQtR"
      },
      "execution_count": 38,
      "outputs": []
    },
    {
      "cell_type": "code",
      "source": [
        "# SVG inside another SVG\n",
        "def create_svg(inside):\n",
        "    svg_content = '''\n",
        "    <svg viewBox = \"0 0 1000 1000\" version = \"1.1\">\n",
        "        <defs>\n",
        "          <g id=\"myGroup\">\n",
        "            <circle cx = \"200\" cy = \"200\" r =\"200\" fill = \"yellow\" stroke = \"black\" stroke-width = \"1.0\">\n",
        "          </g>\n",
        "        </defs>\n",
        "\n",
        "        <use x = \"100\" y = \"100\" xlink:href = \"#myGroup\"/>\n",
        "        <use x = \"100\" y = \"650\" xlink:href = \"#myGroup\"/>\n",
        "    </svg>\n",
        "    '''\n",
        "\n",
        "    with open(inside, 'w') as svg_file:\n",
        "      svg_file.write(svg_content)\n",
        "\n",
        "create_svg(\"inside.svg\")"
      ],
      "metadata": {
        "id": "B4pCexessIa0"
      },
      "execution_count": 39,
      "outputs": []
    },
    {
      "cell_type": "code",
      "source": [
        "# Writing to a text file in Python\n",
        "f = open(\"demofile.svg\", \"w\")\n",
        "f.write(“Hello %i World %5.2f\\n\" % (5, 2.2))\n",
        "f.close()"
      ],
      "metadata": {
        "id": "rRuNiKbJt_uB"
      },
      "execution_count": null,
      "outputs": []
    }
  ]
}