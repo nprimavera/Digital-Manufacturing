{
  "nbformat": 4,
  "nbformat_minor": 0,
  "metadata": {
    "colab": {
      "provenance": [],
      "authorship_tag": "ABX9TyNYjhUyKCz6iHH45NhXjgVT",
      "include_colab_link": true
    },
    "kernelspec": {
      "name": "python3",
      "display_name": "Python 3"
    },
    "language_info": {
      "name": "python"
    }
  },
  "cells": [
    {
      "cell_type": "markdown",
      "metadata": {
        "id": "view-in-github",
        "colab_type": "text"
      },
      "source": [
        "<a href=\"https://colab.research.google.com/github/nprimavera/Laser-Cutting/blob/main/Design_Box.ipynb\" target=\"_parent\"><img src=\"https://colab.research.google.com/assets/colab-badge.svg\" alt=\"Open In Colab\"/></a>"
      ]
    },
    {
      "cell_type": "code",
      "execution_count": 1,
      "metadata": {
        "colab": {
          "base_uri": "https://localhost:8080/"
        },
        "id": "JDdhDwO-rqOl",
        "outputId": "f72daab7-af04-49cd-ae83-b2ea02904c93"
      },
      "outputs": [
        {
          "name": "stdout",
          "output_type": "stream",
          "text": [
            "Enter the desired height of your box to the nearest whole inch: 1\n",
            "Enter the desired width of your box to the nearest whole inch: 1\n"
          ]
        }
      ],
      "source": [
        "# Define box variables based off user input\n",
        "box_height = int(input(\"Enter the desired height of your box to the nearest whole inch: \")) * 90\n",
        "box_width = int(input(\"Enter the desired width of your box to the nearest whole inch: \")) * 90\n",
        "\n",
        "dovetail_width = 11\n",
        "\n",
        "def drawBox(height, width, x_initial, y_initial):\n",
        "  x1 =  x_initial # Arbitrary starting point\n",
        "  y1 = y_initial  # Arbitrary starting point\n",
        "  x2 = x1  # Must match x1_left_out for a straight vertical line\n",
        "  y2 = box_height + y1   # The + y_initial is offset to account for starting point\n",
        "\n",
        "  x3 = x1 + box_width  # Width of dovetail is 11 px so 11 + x_initial to offset the inner line\n",
        "  y3 = y1  # Must match same arbitrary point as y1_left_out\n",
        "  x4 = x3\n",
        "  y4 = y2\n",
        "\n",
        "  # Define SVG file content\n",
        "  svg_content = f'''\n",
        "  <svg width=\"1620\" height=\"1080\" xmlns=\"http://www.w3.org/2000/svg\">\n",
        "    <line x1=\"{x1}\" y1=\"{y1}\" x2=\"{x2}\" y2=\"{y2}\" stroke=\"black\" stroke-width=\"1\" stroke-dasharray=\"45,45\"/>\n",
        "    <line x1=\"{x1 + dovetail_width}\" y1=\"{y1}\" x2=\"{x2 + dovetail_width}\" y2=\"{y2}\" stroke=\"black\" stroke-width=\"1\" stroke-dasharray=\"45,45\" stroke-dashoffset=\"45\"/>\n",
        "    <line x1=\"{x3}\" y1=\"{y3 + dovetail_width}\" x2=\"{x4}\" y2=\"{y4}\" stroke=\"black\" stroke-width=\"1\" stroke-dasharray=\"45,45\" stroke-dashoffset=\"{dovetail_width}\"/>\n",
        "    <line x1=\"{x3 - dovetail_width}\" y1=\"{y3 + dovetail_width}\" x2=\"{x4 - dovetail_width}\" y2=\"{y4 - dovetail_width}\" stroke=\"black\" stroke-width=\"1\" stroke-dasharray=\"45,45\" stroke-dashoffset=\"{dovetail_width - 45}\"/>\n",
        "\n",
        "    <line x1=\"{x1}\" y1=\"{y1}\" x2=\"{x3}\" y2=\"{y3}\" stroke=\"black\" stroke-width=\"1\" stroke-dasharray=\"45,45\"/>\n",
        "    <line x1=\"{x1}\" y1=\"{y1 + dovetail_width}\" x2=\"{x3}\" y2=\"{y3 + dovetail_width}\" stroke=\"black\" stroke-width=\"1\" stroke-dasharray=\"45,45\" stroke-dashoffset=\"45\"/>\n",
        "    <line x1=\"{x2 + dovetail_width}\" y1=\"{y2}\" x2=\"{x4}\" y2=\"{y4}\" stroke=\"black\" stroke-width=\"1\" stroke-dasharray=\"45,45\" stroke-dashoffset=\"{dovetail_width}\"/>\n",
        "    <line x1=\"{x2 + dovetail_width}\" y1=\"{y2 - dovetail_width}\" x2=\"{x4 - dovetail_width}\" y2=\"{y4 - dovetail_width}\" stroke=\"black\" stroke-width=\"1\" stroke-dasharray=\"45,45\" stroke-dashoffset=\"{dovetail_width - 45}\"/>\n",
        "  </svg>\n",
        "  '''\n",
        "\n",
        "  # Write SVG content to a file\n",
        "  svg_filename = \"dashed_line.svg\"\n",
        "  with open(svg_filename, \"w\") as svg_file:\n",
        "      svg_file.write(svg_content)\n",
        "\n",
        "if __name__ == \"__main__\":\n",
        "\n",
        "      drawBox(box_height, box_width, 20, 20)"
      ]
    },
    {
      "cell_type": "code",
      "source": [
        "# New Attempt"
      ],
      "metadata": {
        "id": "V37ISvo4rsNH"
      },
      "execution_count": 2,
      "outputs": []
    },
    {
      "cell_type": "code",
      "source": [
        "# Define box variables based off user input\n",
        "box_height = int(input(\"Enter the desired height of your box to the nearest whole inch: \")) * 90\n",
        "box_width = int(input(\"Enter the desired width of your box to the nearest whole inch: \")) * 90\n",
        "\n",
        "dovetail_width = 11\n",
        "slot_width = 10  # Width of the slot\n",
        "slot_height = 5  # Height of the slot\n",
        "\n",
        "def drawBox(height, width, x_initial, y_initial):\n",
        "    # Define corner points of the box\n",
        "    x1 = x_initial\n",
        "    y1 = y_initial\n",
        "    x2 = x1\n",
        "    y2 = y1 + height\n",
        "    x3 = x1 + width\n",
        "    y3 = y1\n",
        "    x4 = x3\n",
        "    y4 = y2\n",
        "\n",
        "    # Define SVG file content\n",
        "    svg_content = f'''\n",
        "    <svg width=\"{width + 40}\" height=\"{height + 40}\" xmlns=\"http://www.w3.org/2000/svg\">\n",
        "        <!-- Front side -->\n",
        "        <line x1=\"{x1}\" y1=\"{y1}\" x2=\"{x3}\" y2=\"{y3}\" stroke=\"black\" stroke-width=\"1\"/>\n",
        "        <line x1=\"{x1}\" y1=\"{y1}\" x2=\"{x1 + dovetail_width}\" y2=\"{y1}\" stroke=\"black\" stroke-width=\"1\"/>\n",
        "        <line x1=\"{x3}\" y1=\"{y3}\" x2=\"{x3 - dovetail_width}\" y2=\"{y3}\" stroke=\"black\" stroke-width=\"1\"/>\n",
        "        <line x1=\"{x1 + dovetail_width}\" y1=\"{y1}\" x2=\"{x1 + dovetail_width}\" y2=\"{y1 + dovetail_width}\" stroke=\"black\" stroke-width=\"1\"/>\n",
        "        <line x1=\"{x3 - dovetail_width}\" y1=\"{y3}\" x2=\"{x3 - dovetail_width}\" y2=\"{y3 + dovetail_width}\" stroke=\"black\" stroke-width=\"1\"/>\n",
        "        <line x1=\"{x1 + dovetail_width}\" y1=\"{y1 + dovetail_width}\" x2=\"{x3 - dovetail_width}\" y2=\"{y3 + dovetail_width}\" stroke=\"black\" stroke-width=\"1\"/>\n",
        "\n",
        "        <!-- Back side -->\n",
        "        <line x1=\"{x2}\" y1=\"{y2}\" x2=\"{x4}\" y2=\"{y4}\" stroke=\"black\" stroke-width=\"1\"/>\n",
        "        <line x1=\"{x2}\" y1=\"{y2}\" x2=\"{x2 + dovetail_width}\" y2=\"{y2}\" stroke=\"black\" stroke-width=\"1\"/>\n",
        "        <line x1=\"{x4}\" y1=\"{y4}\" x2=\"{x4 - dovetail_width}\" y2=\"{y4}\" stroke=\"black\" stroke-width=\"1\"/>\n",
        "        <line x1=\"{x2 + dovetail_width}\" y1=\"{y2}\" x2=\"{x2 + dovetail_width}\" y2=\"{y2 - dovetail_width}\" stroke=\"black\" stroke-width=\"1\"/>\n",
        "        <line x1=\"{x4 - dovetail_width}\" y1=\"{y4}\" x2=\"{x4 - dovetail_width}\" y2=\"{y4 - dovetail_width}\" stroke=\"black\" stroke-width=\"1\"/>\n",
        "        <line x1=\"{x2 + dovetail_width}\" y1=\"{y2 - dovetail_width}\" x2=\"{x4 - dovetail_width}\" y2=\"{y4 - dovetail_width}\" stroke=\"black\" stroke-width=\"1\"/>\n",
        "\n",
        "        <!-- Left side with slot -->\n",
        "        <line x1=\"{x1}\" y1=\"{y1}\" x2=\"{x2}\" y2=\"{y2}\" stroke=\"black\" stroke-width=\"1\"/>\n",
        "        <line x1=\"{x1}\" y1=\"{y1}\" x2=\"{x1}\" y2=\"{y1 + slot_height}\" stroke=\"black\" stroke-width=\"1\"/>\n",
        "        <line x1=\"{x2}\" y1=\"{y2}\" x2=\"{x2}\" y2=\"{y2 - slot_height}\" stroke=\"black\" stroke-width=\"1\"/>\n",
        "        <line x1=\"{x1}\" y1=\"{y1 + slot_height // 2}\" x2=\"{x2}\" y2=\"{y2 - slot_height // 2}\" stroke=\"black\" stroke-width=\"1\"/>\n",
        "\n",
        "        <!-- Right side with slot -->\n",
        "        <line x1=\"{x3}\" y1=\"{y3}\" x2=\"{x4}\" y2=\"{y4}\" stroke=\"black\" stroke-width=\"1\"/>\n",
        "        <line x1=\"{x3}\" y1=\"{y3}\" x2=\"{x3}\" y2=\"{y3 + slot_height}\" stroke=\"black\" stroke-width=\"1\"/>\n",
        "        <line x1=\"{x4}\" y1=\"{y4}\" x2=\"{x4}\" y2=\"{y4 - slot_height}\" stroke=\"black\" stroke-width=\"1\"/>\n",
        "        <line x1=\"{x3}\" y1=\"{y3 + slot_height // 2}\" x2=\"{x4}\" y2=\"{y4 - slot_height // 2}\" stroke=\"black\" stroke-width=\"1\"/>\n",
        "\n",
        "        <!-- Top side with dovetail -->\n",
        "        <line x1=\"{x1}\" y1=\"{y1}\" x2=\"{x3}\" y2=\"{y3}\" stroke=\"black\" stroke-width=\"1\"/>\n",
        "        <line x1=\"{x1}\" y1=\"{y1}\" x2=\"{x1 + dovetail_width}\" y2=\"{y1}\" stroke=\"black\" stroke-width=\"1\"/>\n",
        "        <line x1=\"{x3}\" y1=\"{y3}\" x2=\"{x3 - dovetail_width}\" y2=\"{y3}\" stroke=\"black\" stroke-width=\"1\"/>\n",
        "        <line x1=\"{x1 + dovetail_width}\" y1=\"{y1}\" x2=\"{x1 + dovetail_width}\" y2=\"{y1 + dovetail_width}\" stroke=\"black\" stroke-width=\"1\"/>\n",
        "        <line x1=\"{x3 - dovetail_width}\" y1=\"{y3}\" x2=\"{x3 - dovetail_width}\" y2=\"{y3 + dovetail_width}\" stroke=\"black\" stroke-width=\"1\"/>\n",
        "        <line x1=\"{x1 + dovetail_width}\" y1=\"{y1 + dovetail_width}\" x2=\"{x3 - dovetail_width}\" y2=\"{y3 + dovetail_width}\" stroke=\"black\" stroke-width=\"1\"/>\n",
        "\n",
        "        <!-- Bottom side with dovetail -->\n",
        "        <line x1=\"{x2}\" y1=\"{y2}\" x2=\"{x4}\" y2=\"{y4}\" stroke=\"black\" stroke-width=\"1\"/>\n",
        "        <line x1=\"{x2}\" y1=\"{y2}\" x2=\"{x2 + dovetail_width}\" y2=\"{y2}\" stroke=\"black\" stroke-width=\"1\"/>\n",
        "        <line x1=\"{x4}\" y1=\"{y4}\" x2=\"{x4 - dovetail_width}\" y2=\"{y4}\" stroke=\"black\" stroke-width=\"1\"/>\n",
        "        <line x1=\"{x2 + dovetail_width}\" y1=\"{y2}\" x2=\"{x2 + dovetail_width}\" y2=\"{y2 - dovetail_width}\" stroke=\"black\" stroke-width=\"1\"/>\n",
        "        <line x1=\"{x4 - dovetail_width}\" y1=\"{y4}\" x2=\"{x4 - dovetail_width}\" y2=\"{y4 - dovetail_width}\" stroke=\"black\" stroke-width=\"1\"/>\n",
        "        <line x1=\"{x2 + dovetail_width}\" y1=\"{y2 - dovetail_width}\" x2=\"{x4 - dovetail_width}\" y2=\"{y4 - dovetail_width}\" stroke=\"black\" stroke-width=\"1\"/>\n",
        "    </svg>\n",
        "    '''\n",
        "\n",
        "    # Write SVG content to a file\n",
        "    svg_filename = \"dovetail_box.svg\"\n",
        "    with open(svg_filename, \"w\") as svg_file:\n",
        "        svg_file.write(svg_content)\n",
        "\n",
        "if __name__ == \"__main__\":\n",
        "    drawBox(box_height, box_width, 20, 20)"
      ],
      "metadata": {
        "colab": {
          "base_uri": "https://localhost:8080/"
        },
        "id": "4Y9Ehk-yt8RY",
        "outputId": "5137999e-6699-48d3-ca08-236d1369385c"
      },
      "execution_count": 8,
      "outputs": [
        {
          "name": "stdout",
          "output_type": "stream",
          "text": [
            "Enter the desired height of your box to the nearest whole inch: 10\n",
            "Enter the desired width of your box to the nearest whole inch: 10\n"
          ]
        }
      ]
    },
    {
      "cell_type": "code",
      "source": [
        "# Display box\n",
        "\n",
        "import matplotlib.pyplot as plt\n",
        "\n",
        "def drawBox(height, width, x_initial, y_initial):\n",
        "    dovetail_width = 11\n",
        "    slot_width = 10  # Width of the slot\n",
        "    slot_height = 5  # Height of the slot\n",
        "\n",
        "    # Define corner points of the box\n",
        "    x1 = x_initial\n",
        "    y1 = y_initial\n",
        "    x2 = x1\n",
        "    y2 = y1 + height\n",
        "    x3 = x1 + width\n",
        "    y3 = y1\n",
        "    x4 = x3\n",
        "    y4 = y2\n",
        "\n",
        "    # Create a new figure\n",
        "    fig, ax = plt.subplots(2, 3, figsize=(10, 6))\n",
        "\n",
        "    # Front side\n",
        "    ax[0, 0].plot([x1, x3], [y1, y3], 'k-', linewidth=1)\n",
        "    ax[0, 0].plot([x1, x1 + dovetail_width], [y1, y1], 'k-', linewidth=1)\n",
        "    ax[0, 0].plot([x3, x3 - dovetail_width], [y3, y3], 'k-', linewidth=1)\n",
        "    ax[0, 0].plot([x1 + dovetail_width, x1 + dovetail_width], [y1, y1 + dovetail_width], 'k-', linewidth=1)\n",
        "    ax[0, 0].plot([x3 - dovetail_width, x3 - dovetail_width], [y3, y3 + dovetail_width], 'k-', linewidth=1)\n",
        "    ax[0, 0].plot([x1 + dovetail_width, x3 - dovetail_width], [y1 + dovetail_width, y3 + dovetail_width], 'k-', linewidth=1)\n",
        "    ax[0, 0].axis('equal')\n",
        "    ax[0, 0].axis('off')\n",
        "    ax[0, 0].set_title('Front Side')\n",
        "\n",
        "    # Back side\n",
        "    ax[0, 1].plot([x2, x4], [y2, y4], 'k-', linewidth=1)\n",
        "    ax[0, 1].plot([x2, x2 + dovetail_width], [y2, y2], 'k-', linewidth=1)\n",
        "    ax[0, 1].plot([x4, x4 - dovetail_width], [y4, y4], 'k-', linewidth=1)\n",
        "    ax[0, 1].plot([x2 + dovetail_width, x2 + dovetail_width], [y2, y2 - dovetail_width], 'k-', linewidth=1)\n",
        "    ax[0, 1].plot([x4 - dovetail_width, x4 - dovetail_width], [y4, y4 - dovetail_width], 'k-', linewidth=1)\n",
        "    ax[0, 1].plot([x2 + dovetail_width, x4 - dovetail_width], [y2 - dovetail_width, y4 - dovetail_width], 'k-', linewidth=1)\n",
        "    ax[0, 1].axis('equal')\n",
        "    ax[0, 1].axis('off')\n",
        "    ax[0, 1].set_title('Back Side')\n",
        "\n",
        "    # Left side\n",
        "    ax[0, 2].plot([x1, x2], [y1, y2], 'k-', linewidth=1)\n",
        "    ax[0, 2].plot([x1, x1], [y1, y1 + slot_height], 'k-', linewidth=1)\n",
        "    ax[0, 2].plot([x2, x2], [y2, y2 - slot_height], 'k-', linewidth=1)\n",
        "    ax[0, 2].plot([x1, x2], [y1 + slot_height // 2, y2 - slot_height // 2], 'k-', linewidth=1)\n",
        "    ax[0, 2].axis('equal')\n",
        "    ax[0, 2].axis('off')\n",
        "    ax[0, 2].set_title('Left Side')\n",
        "\n",
        "    # Right side\n",
        "    ax[1, 0].plot([x3, x4], [y3, y4], 'k-', linewidth=1)\n",
        "    ax[1, 0].plot([x3, x3], [y3, y3 + slot_height], 'k-', linewidth=1)\n",
        "    ax[1, 0].plot([x4, x4], [y4, y4 - slot_height], 'k-', linewidth=1)\n",
        "    ax[1, 0].plot([x3, x4], [y3 + slot_height // 2, y4 - slot_height // 2], 'k-', linewidth=1)\n",
        "    ax[1, 0].axis('equal')\n",
        "    ax[1, 0].axis('off')\n",
        "    ax[1, 0].set_title('Right Side')\n",
        "\n",
        "    # Top side\n",
        "    ax[1, 1].plot([x1, x3], [y1, y3], 'k-', linewidth=1)\n",
        "    ax[1, 1].plot([x1, x1 + dovetail_width], [y1, y1], 'k-', linewidth=1)\n",
        "    ax[1, 1].plot([x3, x3 - dovetail_width], [y3, y3], 'k-', linewidth=1)\n",
        "    ax[1, 1].plot([x1 + dovetail_width, x1 + dovetail_width], [y1, y1 + dovetail_width], 'k-', linewidth=1)\n",
        "    ax[1, 1].plot([x3 - dovetail_width, x3 - dovetail_width], [y3, y3 + dovetail_width], 'k-', linewidth=1)\n",
        "    ax[1, 1].plot([x1 + dovetail_width, x3 - dovetail_width], [y1 + dovetail_width, y3 + dovetail_width], 'k-', linewidth=1)\n",
        "    ax[1, 1].axis('equal')\n",
        "    ax[1, 1].axis('off')\n",
        "    ax[1, 1].set_title('Top Side')\n",
        "\n",
        "    # Bottom side\n",
        "    ax[1, 2].plot([x2, x4], [y2, y4], 'k-', linewidth=1)\n",
        "    ax[1, 2].plot([x2, x2 + dovetail_width], [y2, y2], 'k-', linewidth=1)\n",
        "    ax[1, 2].plot([x4, x4 - dovetail_width], [y4, y4], 'k-', linewidth=1)\n",
        "    ax[1, 2].plot([x2 + dovetail_width, x2 + dovetail_width], [y2, y2 - dovetail_width], 'k-', linewidth=1)\n",
        "    ax[1, 2].plot([x4 - dovetail_width, x4 - dovetail_width], [y4, y4 - dovetail_width], 'k-', linewidth=1)\n",
        "    ax[1, 2].plot([x2 + dovetail_width, x4 - dovetail_width], [y2 - dovetail_width, y4 - dovetail_width], 'k-', linewidth=1)\n",
        "    ax[1, 2].axis('equal')\n",
        "    ax[1, 2].axis('off')\n",
        "    ax[1, 2].set_title('Bottom Side')\n",
        "\n",
        "    plt.tight_layout()\n",
        "    plt.show()\n",
        "\n",
        "if __name__ == \"__main__\":\n",
        "    drawBox(box_height, box_width, 20, 20)"
      ],
      "metadata": {
        "colab": {
          "base_uri": "https://localhost:8080/",
          "height": 607
        },
        "id": "NSw_0fUWvZPK",
        "outputId": "def50f21-407e-4e00-80dd-67ba554a93bd"
      },
      "execution_count": 9,
      "outputs": [
        {
          "output_type": "display_data",
          "data": {
            "text/plain": [
              "<Figure size 1000x600 with 6 Axes>"
            ],
            "image/png": "[encoded data removed]"
          },
          "metadata": {}
        }
      ]
    }
  ]
}