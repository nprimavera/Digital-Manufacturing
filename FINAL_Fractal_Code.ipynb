{
  "nbformat": 4,
  "nbformat_minor": 0,
  "metadata": {
    "colab": {
      "provenance": [],
      "authorship_tag": "ABX9TyPuntjmcXNOHbqGNcpZ8fEz",
      "include_colab_link": true
    },
    "kernelspec": {
      "name": "python3",
      "display_name": "Python 3"
    },
    "language_info": {
      "name": "python"
    }
  },
  "cells": [
    {
      "cell_type": "markdown",
      "metadata": {
        "id": "view-in-github",
        "colab_type": "text"
      },
      "source": [
        "<a href=\"https://colab.research.google.com/github/nprimavera/Laser-Cutting/blob/main/FINAL_Fractal_Code.ipynb\" target=\"_parent\"><img src=\"https://colab.research.google.com/assets/colab-badge.svg\" alt=\"Open In Colab\"/></a>"
      ]
    },
    {
      "cell_type": "code",
      "source": [
        "# Generating a Fractal - general usage\n",
        "\n",
        "import matplotlib.pyplot as plt\n",
        "import numpy as np\n",
        "\n",
        "class Vector:                     # REMINDER: class --> defines the attributes and bahaviors of the vector\n",
        "    def __init__(self, x, y):     # REMINDER: init function --> special method in a class that is called when an object is created - initializes object's attributes\n",
        "        self.x = x                # instance variable for x\n",
        "        self.y = y                # instance variable for y\n",
        "\n",
        "class AffineTransform:\n",
        "    def __init__(self, a, b, c, d, e, f):   # initializes object's attributes\n",
        "        self.a = a    # instance variables\n",
        "        self.b = b\n",
        "        self.c = c\n",
        "        self.d = d\n",
        "        self.e = e\n",
        "        self.f = f\n",
        "\n",
        "def recursivePlot(vector, transforms, num_transforms, current_depth, max_depth, ax):  # recursive plot function w/ specified params\n",
        "    if current_depth == max_depth:          # base case: current recursion depth equals maximum recursion depth\n",
        "        ax.plot(vector.x, vector.y, 'ro')   # if true --> recursivePlot will plot the Vector with a call to ax.plot and return\n",
        "        return\n",
        "\n",
        "# apply affine transformations to the vector\n",
        "    for transform in transforms:            # loops through all the transformations in the array\n",
        "        new_x = transform.a * vector.x + transform.b * vector.y + transform.e\n",
        "        new_y = transform.c * vector.x + transform.d * vector.y + transform.f\n",
        "        new_vector = Vector(new_x, new_y)   # calculates a new vector for each transformation\n",
        "        recursivePlot(new_vector, transforms, num_transforms, current_depth + 1, max_depth, ax)\n",
        "\n",
        "def drawFractal(startPoint, transforms, max_depth):   # draws the fractal w/ specified params\n",
        "    fig, ax = plt.subplots()                          # ax plot allows the function to plot on the same set of axes throughout its recursive calls\n",
        "    num_transforms = len(transforms)                  # the number of transforms is equal to the amount/length of transforms - defined in usage\n",
        "    recursivePlot(startPoint, transforms, num_transforms, 0, max_depth, ax)\n",
        "    ax.set_xlabel('X')\n",
        "    ax.set_ylabel('Y')\n",
        "    ax.set_title('Sierpinski triangle')\n",
        "    ax.grid(True)\n",
        "    plt.savefig('fractal.svg', format='svg')          # saves the fractal as an svg file\n"
      ],
      "metadata": {
        "id": "8Mq0SBe2ehM6"
      },
      "execution_count": null,
      "outputs": []
    },
    {
      "cell_type": "code",
      "source": [
        "# Example usage - using the Sierpinski triangle for this example\n",
        "\n",
        "## Starting point of the fractal - from user input\n",
        "#def user_input():\n",
        "    #while True:\n",
        "        #try:\n",
        "            #x = int(input(\"Enter the x-coordinate of the starting point (in inches, maximum 12): \")) * 90   # 90 pixels per inch\n",
        "            #y = int(input(\"Enter the y-coordinate of the starting point (in inches, maximum 18): \")) * 90\n",
        "            #if 0 <= x <= 1080 and 0 <= y <= 1620:  # Check if coordinates are within constraints\n",
        "                #return Vector(x, y)\n",
        "            #else:\n",
        "                #print(\"Error: Coordinates must be within 12 inches for x and 18 inches for y.\")\n",
        "        #except ValueError:\n",
        "            #print(\"Error: Invalid input. Please enter valid numerical values for coordinates.\")\n",
        "\n",
        "if __name__ == \"__main__\":\n",
        "    # Calculate the middle point of the box\n",
        "    middle_x = box_width / 2\n",
        "    middle_y = box_height / 2\n",
        "\n",
        "    # Calculate the starting point for the fractal\n",
        "    startPoint = (middle_x, middle_y)\n",
        "\n",
        "    # Define transformations for Sierpinski triangle - these transformations make sure the fractal is symmetrical around the midpoint\n",
        "    transforms = [\n",
        "    AffineTransform(0.5, 0, 0, 0.5, 0, 0),         # Scale down by 1/2\n",
        "    AffineTransform(0.5, 0, 0, 0.5, 0.25, 0),      # Scale down by 1/2 and move right by 0.25\n",
        "    AffineTransform(0.5, 0, 0, 0.5, 0.125, 0.2165) # Scale down by 1/2, move right by 0.125, and up by 0.2165\n",
        "    ]\n",
        "\n",
        "    # Calculate maximum recursion depth\n",
        "    max_depth = 5\n",
        "\n",
        "    # Execute the draw fractal function\n",
        "    drawFractal(startPoint, transforms, max_depth)"
      ],
      "metadata": {
        "colab": {
          "base_uri": "https://localhost:8080/",
          "height": 242
        },
        "id": "7KLBHj7fHJYY",
        "outputId": "e6aba3ec-ceee-4c2e-9024-27ca61798419"
      },
      "execution_count": 2,
      "outputs": [
        {
          "output_type": "error",
          "ename": "NameError",
          "evalue": "name 'box_width' is not defined",
          "traceback": [
            "\u001b[0;31m---------------------------------------------------------------------------\u001b[0m",
            "\u001b[0;31mNameError\u001b[0m                                 Traceback (most recent call last)",
            "\u001b[0;32m<ipython-input-2-5cb9967d16b7>\u001b[0m in \u001b[0;36m<cell line: 16>\u001b[0;34m()\u001b[0m\n\u001b[1;32m     16\u001b[0m \u001b[0;32mif\u001b[0m \u001b[0m__name__\u001b[0m \u001b[0;34m==\u001b[0m \u001b[0;34m\"__main__\"\u001b[0m\u001b[0;34m:\u001b[0m\u001b[0;34m\u001b[0m\u001b[0;34m\u001b[0m\u001b[0m\n\u001b[1;32m     17\u001b[0m     \u001b[0;31m# Calculate the middle point of the box\u001b[0m\u001b[0;34m\u001b[0m\u001b[0;34m\u001b[0m\u001b[0m\n\u001b[0;32m---> 18\u001b[0;31m     \u001b[0mmiddle_x\u001b[0m \u001b[0;34m=\u001b[0m \u001b[0mbox_width\u001b[0m \u001b[0;34m/\u001b[0m \u001b[0;36m2\u001b[0m\u001b[0;34m\u001b[0m\u001b[0;34m\u001b[0m\u001b[0m\n\u001b[0m\u001b[1;32m     19\u001b[0m     \u001b[0mmiddle_y\u001b[0m \u001b[0;34m=\u001b[0m \u001b[0mbox_height\u001b[0m \u001b[0;34m/\u001b[0m \u001b[0;36m2\u001b[0m\u001b[0;34m\u001b[0m\u001b[0;34m\u001b[0m\u001b[0m\n\u001b[1;32m     20\u001b[0m \u001b[0;34m\u001b[0m\u001b[0m\n",
            "\u001b[0;31mNameError\u001b[0m: name 'box_width' is not defined"
          ]
        }
      ]
    },
    {
      "cell_type": "code",
      "source": [
        "# Box width is defined in the combined file"
      ],
      "metadata": {
        "id": "sIyk8uzpRhHK"
      },
      "execution_count": 3,
      "outputs": []
    }
  ]
}