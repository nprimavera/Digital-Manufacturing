{
  "nbformat": 4,
  "nbformat_minor": 0,
  "metadata": {
    "colab": {
      "provenance": [],
      "authorship_tag": "ABX9TyMTihixn/rbpETP1q1O5RUL",
      "include_colab_link": true
    },
    "kernelspec": {
      "name": "python3",
      "display_name": "Python 3"
    },
    "language_info": {
      "name": "python"
    }
  },
  "cells": [
    {
      "cell_type": "markdown",
      "metadata": {
        "id": "view-in-github",
        "colab_type": "text"
      },
      "source": [
        "<a href=\"https://colab.research.google.com/github/nprimavera/Digital-Manufacturing/blob/main/Generating_Fractals_The_Sierpinski_Gasket.ipynb\" target=\"_parent\"><img src=\"https://colab.research.google.com/assets/colab-badge.svg\" alt=\"Open In Colab\"/></a>"
      ]
    },
    {
      "cell_type": "markdown",
      "source": [
        "Step 1:\n",
        "- Now create a function plotVector that takes a Vector pointer as a parameter and plots the pixel on the screen corresponding to this vector\n",
        "- You can do this with a single call to GP142_pixelXY\n",
        "- You will need to cast the Vector’s entries to ints"
      ],
      "metadata": {
        "id": "OQ6QUJxiesnk"
      }
    },
    {
      "cell_type": "code",
      "execution_count": null,
      "metadata": {
        "id": "YooWmx8MwCCs",
        "colab": {
          "base_uri": "https://localhost:8080/",
          "height": 472
        },
        "outputId": "6086b915-a2c3-459d-f668-c512fc09606a"
      },
      "outputs": [
        {
          "output_type": "display_data",
          "data": {
            "text/plain": [
              "<Figure size 640x480 with 1 Axes>"
            ],
            "image/png": "[encoded data removed]"
          },
          "metadata": {}
        }
      ],
      "source": [
        "import matplotlib.pyplot as plt\n",
        "\n",
        "class Vector:\n",
        "    def __init__(self, x, y):\n",
        "        self.x = x\n",
        "        self.y = y\n",
        "\n",
        "def plotVector(vector):\n",
        "    plt.plot(vector.x, vector.y, 'bo')  # 'bo' specifies blue color and circle marker\n",
        "    plt.xlabel('X')\n",
        "    plt.ylabel('Y')\n",
        "    plt.title('Plot of Vector')\n",
        "    plt.grid(True)\n",
        "    plt.show()\n",
        "\n",
        "# Example usage:\n",
        "v = Vector(3, 5)\n",
        "plotVector(v)"
      ]
    },
    {
      "cell_type": "markdown",
      "source": [
        "Step 2:\n",
        "- Now define a Vector startPoint in drawFractal whose entries are both zero\n",
        "- Such a vector is known as the zero vector\n",
        "- This will be the starting point from which all points in the image are generated via a sequences of affine transformations (Note that this point itself is not necessarily part of the image)"
      ],
      "metadata": {
        "id": "JfNKQsSke3Yy"
      }
    },
    {
      "cell_type": "code",
      "source": [
        "import numpy as np\n",
        "\n",
        "class Vector:\n",
        "    def __init__(self, x, y):\n",
        "        self.x = x\n",
        "        self.y = y\n",
        "\n",
        "def drawFractal():\n",
        "    # Define the zero vector\n",
        "    startPoint = Vector(0, 0)\n",
        "\n",
        "    # Your code for generating the fractal points from startPoint goes here\n",
        "\n",
        "# Example usage:\n",
        "drawFractal()"
      ],
      "metadata": {
        "id": "uK5qhcaTer_F"
      },
      "execution_count": null,
      "outputs": []
    },
    {
      "cell_type": "markdown",
      "source": [
        "Step 3:\n",
        "- Finally, define the function recursivePlot that takes as parameters a Vector pointer, an array of AffineTransforms, an integer specifying how many transforms there are, an integer specifying current recursion depth, and an integer specifying maximum recursion depth\n",
        "- The base case for this recursive function should be that the current recursion depth equals the maximum recursion depth\n",
        "- If this is the case then recursivePlot should simply plot the Vector with a call to plotVector and return"
      ],
      "metadata": {
        "id": "U6JzsydMfHv3"
      }
    },
    {
      "cell_type": "code",
      "source": [
        "import matplotlib.pyplot as plt\n",
        "\n",
        "class Vector:\n",
        "    def __init__(self, x, y):\n",
        "        self.x = x\n",
        "        self.y = y\n",
        "\n",
        "class AffineTransform:\n",
        "    def __init__(self, a, b, c, d, e, f):\n",
        "        self.a = a\n",
        "        self.b = b\n",
        "        self.c = c\n",
        "        self.d = d\n",
        "        self.e = e\n",
        "        self.f = f\n",
        "\n",
        "def plotVector(vector):\n",
        "    plt.plot(vector.x, vector.y, 'bo')  # 'bo' specifies blue color and circle marker\n",
        "    # You may want to adjust the plot limits to accommodate the points\n",
        "    plt.xlim(-10, 10)  # Adjust the limits according to your needs\n",
        "    plt.ylim(-10, 10)  # Adjust the limits according to your needs\n",
        "    plt.xlabel('X')\n",
        "    plt.ylabel('Y')\n",
        "    plt.title('Plot of Vector')\n",
        "    plt.grid(True)\n",
        "    plt.show()\n",
        "\n",
        "def recursivePlot(vector, transforms, num_transforms, current_depth, max_depth):\n",
        "    if current_depth == max_depth:\n",
        "        plotVector(vector)\n",
        "        return\n",
        "\n",
        "    # Apply affine transformations to the vector\n",
        "    for transform in transforms:\n",
        "        new_x = transform.a * vector.x + transform.b * vector.y + transform.e\n",
        "        new_y = transform.c * vector.x + transform.d * vector.y + transform.f\n",
        "        new_vector = Vector(new_x, new_y)\n",
        "        recursivePlot(new_vector, transforms, num_transforms, current_depth + 1, max_depth)\n",
        "\n",
        "# Example usage:\n",
        "startPoint = Vector(0, 0)\n",
        "transforms = []  # Populate this list with AffineTransform objects\n",
        "num_transforms = len(transforms)\n",
        "max_depth = 5\n",
        "recursivePlot(startPoint, transforms, num_transforms, 0, max_depth)"
      ],
      "metadata": {
        "id": "ahgdioRdfCqH"
      },
      "execution_count": null,
      "outputs": []
    },
    {
      "cell_type": "markdown",
      "source": [
        "Step 4:\n",
        "- Otherwise recursivePlot should loop through all the transformations in the array, the number of which was specified in the third parameter\n",
        "- For each transformation, it should calculate a new vector with a call to AffineTransform and recursively call itself, passing the value of this new vector\n",
        "- Remember to pass the current recursion depth plus one or the recursion will never reach the base case\n",
        "- Besides the new vector and recursion depth, all other arguments to the recursive call should be the same"
      ],
      "metadata": {
        "id": "9UnH8g51hNb9"
      }
    },
    {
      "cell_type": "code",
      "source": [
        "import matplotlib.pyplot as plt\n",
        "\n",
        "class Vector:\n",
        "    def __init__(self, x, y):\n",
        "        self.x = x\n",
        "        self.y = y\n",
        "\n",
        "class AffineTransform:\n",
        "    def __init__(self, a, b, c, d, e, f):\n",
        "        self.a = a\n",
        "        self.b = b\n",
        "        self.c = c\n",
        "        self.d = d\n",
        "        self.e = e\n",
        "        self.f = f\n",
        "\n",
        "def plotVector(vector):\n",
        "    plt.plot(vector.x, vector.y, 'bo')  # 'bo' specifies blue color and circle marker\n",
        "    # You may want to adjust the plot limits to accommodate the points\n",
        "    plt.xlim(-10, 10)  # Adjust the limits according to your needs\n",
        "    plt.ylim(-10, 10)  # Adjust the limits according to your needs\n",
        "    plt.xlabel('X')\n",
        "    plt.ylabel('Y')\n",
        "    plt.title('Plot of Vector')\n",
        "    plt.grid(True)\n",
        "    plt.show()\n",
        "\n",
        "def recursivePlot(vector, transforms, num_transforms, current_depth, max_depth):\n",
        "    if current_depth == max_depth:\n",
        "        plotVector(vector)\n",
        "        return\n",
        "\n",
        "    for transform in transforms:\n",
        "        new_x = transform.a * vector.x + transform.b * vector.y + transform.e\n",
        "        new_y = transform.c * vector.x + transform.d * vector.y + transform.f\n",
        "        new_vector = Vector(new_x, new_y)\n",
        "        recursivePlot(new_vector, transforms, num_transforms, current_depth + 1, max_depth)\n",
        "\n",
        "# Example usage:\n",
        "startPoint = Vector(0, 0)\n",
        "transforms = []  # Populate this list with AffineTransform objects\n",
        "num_transforms = len(transforms)\n",
        "max_depth = 5\n",
        "recursivePlot(startPoint, transforms, num_transforms, 0, max_depth)"
      ],
      "metadata": {
        "id": "C6LUX8dlhL3b"
      },
      "execution_count": null,
      "outputs": []
    },
    {
      "cell_type": "markdown",
      "source": [
        "Step 5:\n",
        "- Call recursivePlot from drawFractal, passing as parameters the zero vector you declared, the array of transformations you read in, the number of transformations read in, zero for the current depth, and the maximum depth that you calculated\n",
        "- Your program should now be complete, and you can start defining some data files to generate fractals"
      ],
      "metadata": {
        "id": "eOh7qLZ7jKjd"
      }
    },
    {
      "cell_type": "code",
      "source": [
        "import matplotlib.pyplot as plt\n",
        "\n",
        "class Vector:\n",
        "    def __init__(self, x, y):\n",
        "        self.x = x\n",
        "        self.y = y\n",
        "\n",
        "class AffineTransform:\n",
        "    def __init__(self, a, b, c, d, e, f):\n",
        "        self.a = a\n",
        "        self.b = b\n",
        "        self.c = c\n",
        "        self.d = d\n",
        "        self.e = e\n",
        "        self.f = f\n",
        "\n",
        "def plotVector(vector):\n",
        "    plt.plot(vector.x, vector.y, 'bo')  # 'bo' specifies blue color and circle marker\n",
        "    # You may want to adjust the plot limits to accommodate the points\n",
        "    plt.xlim(-10, 10)  # Adjust the limits according to your needs\n",
        "    plt.ylim(-10, 10)  # Adjust the limits according to your needs\n",
        "    plt.xlabel('X')\n",
        "    plt.ylabel('Y')\n",
        "    plt.title('Plot of Vector')\n",
        "    plt.grid(True)\n",
        "    plt.show()\n",
        "\n",
        "def recursivePlot(vector, transforms, num_transforms, current_depth, max_depth):\n",
        "    if current_depth == max_depth:\n",
        "        plotVector(vector)\n",
        "        return\n",
        "\n",
        "    for transform in transforms:\n",
        "        new_x = transform.a * vector.x + transform.b * vector.y + transform.e\n",
        "        new_y = transform.c * vector.x + transform.d * vector.y + transform.f\n",
        "        new_vector = Vector(new_x, new_y)\n",
        "        recursivePlot(new_vector, transforms, num_transforms, current_depth + 1, max_depth)\n",
        "\n",
        "def drawFractal(startPoint, transforms, max_depth):\n",
        "    num_transforms = len(transforms)\n",
        "    recursivePlot(startPoint, transforms, num_transforms, 0, max_depth)\n",
        "\n",
        "# Example usage:\n",
        "startPoint = Vector(0, 0)\n",
        "transforms = []  # Populate this list with AffineTransform objects\n",
        "max_depth = 5  # Calculate your maximum recursion depth\n",
        "drawFractal(startPoint, transforms, max_depth)"
      ],
      "metadata": {
        "id": "5BDxvjPyhhZO"
      },
      "execution_count": null,
      "outputs": []
    },
    {
      "cell_type": "code",
      "source": [
        "# Define the transformations and call 'drawFractal' to plot the Sierpinski triangle"
      ],
      "metadata": {
        "id": "XZVRK-4djdr1"
      },
      "execution_count": null,
      "outputs": []
    },
    {
      "cell_type": "code",
      "source": [
        "import matplotlib.pyplot as plt\n",
        "\n",
        "# Define transformations for Sierpinski triangle\n",
        "transformations = [\n",
        "    AffineTransform(0.5, 0, 0, 0.5, 0, 0),   # Scale down by 1/2\n",
        "    AffineTransform(0.5, 0, 0, 0.5, 0.5, 0), # Scale down by 1/2 and move right by 0.5\n",
        "    AffineTransform(0.5, 0, 0, 0.5, 0.25, 0.5) # Scale down by 1/2, move right by 0.25, and up by 0.5\n",
        "]\n",
        "\n",
        "class Vector:\n",
        "    def __init__(self, x, y):\n",
        "        self.x = x\n",
        "        self.y = y\n",
        "\n",
        "class AffineTransform:\n",
        "    def __init__(self, a, b, c, d, e, f):\n",
        "        self.a = a\n",
        "        self.b = b\n",
        "        self.c = c\n",
        "        self.d = d\n",
        "        self.e = e\n",
        "        self.f = f\n",
        "\n",
        "def plotVector(vector):\n",
        "    plt.plot(vector.x, vector.y, 'bo')  # 'bo' specifies blue color and circle marker\n",
        "\n",
        "def recursivePlot(vector, transforms, num_transforms, current_depth, max_depth):\n",
        "    if current_depth == max_depth:\n",
        "        plotVector(vector)\n",
        "        return\n",
        "\n",
        "    for transform in transforms:\n",
        "        new_x = transform.a * vector.x + transform.b * vector.y + transform.e\n",
        "        new_y = transform.c * vector.x + transform.d * vector.y + transform.f\n",
        "        new_vector = Vector(new_x, new_y)\n",
        "        recursivePlot(new_vector, transforms, num_transforms, current_depth + 1, max_depth)\n",
        "\n",
        "def drawFractal(startPoint, transforms, max_depth):\n",
        "    num_transforms = len(transforms)\n",
        "    recursivePlot(startPoint, transforms, num_transforms, 0, max_depth)\n",
        "\n",
        "# Example usage:\n",
        "startPoint = Vector(0, 0)\n",
        "max_depth = 5\n",
        "drawFractal(startPoint, transformations, max_depth)\n",
        "plt.xlabel('X')\n",
        "plt.ylabel('Y')\n",
        "plt.title('Sierpinski Triangle')\n",
        "plt.grid(True)\n",
        "plt.show()"
      ],
      "metadata": {
        "colab": {
          "base_uri": "https://localhost:8080/",
          "height": 472
        },
        "id": "8RZriXCykx_5",
        "outputId": "837536ef-a599-4317-df34-2b147a5897f8"
      },
      "execution_count": null,
      "outputs": [
        {
          "output_type": "display_data",
          "data": {
            "text/plain": [
              "<Figure size 640x480 with 1 Axes>"
            ],
            "image/png": "[encoded data removed]"
          },
          "metadata": {}
        }
      ]
    }
  ]
}