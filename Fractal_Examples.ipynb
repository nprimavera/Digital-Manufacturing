{
  "nbformat": 4,
  "nbformat_minor": 0,
  "metadata": {
    "colab": {
      "provenance": [],
      "authorship_tag": "ABX9TyOqxb1/N3ikJ6N5w5s+5vYE",
      "include_colab_link": true
    },
    "kernelspec": {
      "name": "python3",
      "display_name": "Python 3"
    },
    "language_info": {
      "name": "python"
    }
  },
  "cells": [
    {
      "cell_type": "markdown",
      "metadata": {
        "id": "view-in-github",
        "colab_type": "text"
      },
      "source": [
        "<a href=\"https://colab.research.google.com/github/nprimavera/Digital-Manufacturing/blob/main/Fractal_Examples.ipynb\" target=\"_parent\"><img src=\"https://colab.research.google.com/assets/colab-badge.svg\" alt=\"Open In Colab\"/></a>"
      ]
    },
    {
      "cell_type": "code",
      "source": [
        "# Vectors"
      ],
      "metadata": {
        "id": "yiqbNAT_8SSc"
      },
      "execution_count": null,
      "outputs": []
    },
    {
      "cell_type": "markdown",
      "source": [
        "Notes:\n",
        "- vectors can have various numbers of entries\n",
        "- in this lab we will only deal with vectors that have two entries\n",
        "- such vectors can be used to represent points on a plane, or pixels in the GP142 graphics window\n",
        "- we simply take the first entry in each vector to be the x-coordinate of a point, and the second entry to be the y-coordinate\n",
        "- adding two vectors a and b results in a new vector c whose first entry is the sum of the first entries of a and b and whose second entry is the sum of the second entries of a and b --> (1.0, 2.0) + (3.0, 4.0) = (1.0+3.0, 2.0+4.0) = (4.0, 6.0)\n",
        "\n"
      ],
      "metadata": {
        "id": "CviM7_TX7zB8"
      }
    },
    {
      "cell_type": "code",
      "source": [
        "# Matrices"
      ],
      "metadata": {
        "id": "9bPUQNbR7yWQ"
      },
      "execution_count": null,
      "outputs": []
    },
    {
      "cell_type": "markdown",
      "source": [
        "Notes:\n",
        "- a matrix is a two-dimensional grid of numbers laid out in rows and columns\n",
        "- in this lab we will only deal with 2-by-2 matrices\n",
        "- 2-by-2 matrices have two rows and two columns and thus contain four entries\n",
        "- in this lab we will refer to these four entries as a, b, c, and d --> these entries are laid out from left to right and top to bottom\n",
        "- a 2-by-2 matrix and a 2-entry vector can be multiplied --> result is a new vector --> ex. A(matrix) * v(vector) = (a*x+b*y, c*x+d*y)"
      ],
      "metadata": {
        "id": "jhcrQKEy80tw"
      }
    },
    {
      "cell_type": "code",
      "source": [
        "# Linear Transformation"
      ],
      "metadata": {
        "id": "P4nOIbYL-Akr"
      },
      "execution_count": null,
      "outputs": []
    },
    {
      "cell_type": "markdown",
      "source": [
        "Notes:\n",
        "- if the vector represents a point on the screen, then multiplying the vector by a matrix generates a new point on the screen\n",
        "- the nature of the transformation depends on the specific entries of the matrix --> linear transformation\n",
        "- given a whole set of vector points, applying a linear transformation can rotate, scale, shear, and reflect the points in the set --> ex: if the points represent an image on screen, a linear transformation might enlarge, stretch, skew, or mirror the image"
      ],
      "metadata": {
        "id": "qYjfYSIV-BAK"
      }
    },
    {
      "cell_type": "code",
      "source": [
        "# Affine Transformation"
      ],
      "metadata": {
        "id": "aRyg-bIq-qnF"
      },
      "execution_count": null,
      "outputs": []
    },
    {
      "cell_type": "markdown",
      "source": [
        "Notes:\n",
        "- a linear transformation cannot be used to translate a set of points -- > affine transformation\n",
        "- affine transformation multiplies a vector by a matrix, just as in a linear transformation, and then adds a vector to the result --> this added vector carries out the translation\n",
        "- by applying an affine transformation to an image on the screen we can do everything a linear transformation can do, and also have the ability to move the image up or down and left or right\n",
        "\n",
        "\n",
        "Process:\n",
        "- declare a struct AffineTransformation that contains a matrix and a vector\n",
        "- then define a function affineTransformation that takes an AffineTransformation pointer as its first parameter, and a Vector pointer as its second paramter\n",
        "- this function should apply the AffineTransformation to the Vector and return a new Vector that is the result of the transformation\n",
        "- it should do this by making calls to multiply and add"
      ],
      "metadata": {
        "id": "VmEjtPx8-q7O"
      }
    },
    {
      "cell_type": "code",
      "source": [
        "def create_svg(affineTransformation):\n",
        "    svg_content = '''\n",
        "\n",
        "    // Assuming you have a Vector struct defined somewhere\n",
        "    typedef struct {    // contains three double-precision floating-point variables (x,y,z) representing the coordinates of the vector\n",
        "        double x;\n",
        "        double y;\n",
        "        double z;\n",
        "    } Vector;           // a Vector struct is defined, which represents a point or a vector in 3D space\n",
        "\n",
        "    // Define your AffineTransformation struct\n",
        "    typedef struct {\n",
        "        double matrix[3][3];    // 3x3 matrix - represents the linear transformation\n",
        "        Vector vector;          // vector - represents the translation\n",
        "    } AffineTransformation;\n",
        "\n",
        "    // Function to multiply a matrix with a vector\n",
        "    Vector multiply(const double matrix[3][3], const Vector *vector) {\n",
        "        Vector result;\n",
        "        // visualize: matrix row * vector column\n",
        "        result.x = matrix[0][0] * vector->x + matrix[0][1] * vector->y + matrix[0][2] * vector->z;\n",
        "        result.y = matrix[1][0] * vector->x + matrix[1][1] * vector->y + matrix[1][2] * vector->z;\n",
        "        result.z = matrix[2][0] * vector->x + matrix[2][1] * vector->y + matrix[2][2] * vector->z;\n",
        "        return result;\n",
        "    }\n",
        "\n",
        "    // Function to add two vectors\n",
        "    Vector add(const Vector *v1, const Vector *v2) {\n",
        "        Vector result;\n",
        "        result.x = v1->x + v2->x;\n",
        "        result.y = v1->y + v2->y;\n",
        "        result.z = v1->z + v2->z;\n",
        "        return result;    // this function takes two vectors and returns their sum as a new vector\n",
        "    }\n",
        "\n",
        "    // Function to apply the AffineTransformation to the Vector\n",
        "    // the function 'affineTransformation' takes an 'AffineTransformation' pointer 'affine' and a 'Vector' pointer 'vector'\n",
        "    Vector affineTransformation(const AffineTransformation *affine, const Vector *vector) {   // apply the affine transformation represented by 'affine' to the vector 'vector'\n",
        "        Vector transformed_vector = multiply(affine->matrix, vector);   // multiply the matrix part of the affine transformation with the vector\n",
        "        return add(&transformed_vector, &affine->vector);               // add the translation part --> returns the resulting vector\n",
        "    }\n",
        "\n",
        "    int main() {\n",
        "        // Example usage\n",
        "        AffineTransformation transformation = {           // creates an 'AffineTransformation' object called 'transformation'\n",
        "            .matrix = {{1, 0, 0}, {0, 1, 0}, {0, 0, 1}},  // identity matrix as the transformation matrix\n",
        "            .vector = {1, 2, 3}                           // translation vector {1, 2, 3}\n",
        "        };\n",
        "        Vector input_vector = {1, 2, 3};                  // input vector {1, 2, 3}\n",
        "        Vector result_vector = affineTransformation(&transformation, &input_vector);  // applies the affine transformation to the input vector using the 'affineTransformation function\n",
        "        printf(\"Transformed vector: (%.2f, %.2f, %.2f)\\n\", result_vector.x, result_vector.y, result_vector.z);  // prints the resulting transformed vector\n",
        "        return 0;\n",
        "    }\n",
        "    '''\n",
        "\n",
        "    # Write the SVG content to the file\n",
        "    with open(affineTransformation, 'w') as svg_file:  # Opens a file for writing. Creates the file if it does not exist. Overwrites the file if it exists.\n",
        "        svg_file.write(svg_content)\n",
        "\n",
        "    # Print the SVG content to the console\n",
        "    #print(svg_content)\n",
        "\n",
        "# Example usage\n",
        "create_svg(\"affineTransformation.svg\")   # creates an SVG file called example.svg"
      ],
      "metadata": {
        "id": "YIodQPbEHOoO"
      },
      "execution_count": null,
      "outputs": []
    },
    {
      "cell_type": "code",
      "source": [
        "# Fractals"
      ],
      "metadata": {
        "id": "qHPeVDjS_xVQ"
      },
      "execution_count": null,
      "outputs": []
    },
    {
      "cell_type": "markdown",
      "source": [
        "Notes:\n",
        "- a fractal is an object that displays self-similarity at magnified scales\n",
        "- there are many objects in nature that have fractal properties --> ex: the branching structure of the tiny capillaries of the human circulatory system is similar in structure to the branching of the large arteries that feed them; the same is true of the nervous system, tree limbs and root systems, and river systems, and another example of fractals in nature is the similarity in appearance of a rugged mountain from a distance and a tiny pebble on that mountain viewed from close-up\n",
        "- Fractal objects are found everywhere in mathematics as well\n",
        "\n",
        "Process:\n",
        "- in this lab we will use vector transformations to generate them\n",
        "- to draw a fractal image we will simply start with a single vector and apply a set of affine transformations to it to generate a new set of vectors\n",
        "- we will then recursively apply the same set of transformations to these new vectors, and so on, until we have many thousands of vectors\n",
        "- then we will plot these points on the screen to generate an image --> use the power of recursive functions to make it simple"
      ],
      "metadata": {
        "id": "3-e1Ly1D_1sM"
      }
    },
    {
      "cell_type": "code",
      "source": [
        "# example from https://courses.cs.washington.edu/courses/cse142/01sp/misc/fractal_lab.htm\n",
        "def create_svg(fractal):\n",
        "    svg_content = '''\n",
        "    int main(void)\n",
        "    {\n",
        "        int mouse_x, mouse_y;\n",
        "        char key_pressed;\n",
        "\n",
        "        GP142_open();             /* Open and initialize the GP142 Graphics Window */\n",
        "        GP142_logging(LOG_OFF);   /* logging is useful to students during debugging, but annoying during the demo; turn it off */\n",
        "        drawFractal();            /* draw a cool fractal on the screen */\n",
        "\n",
        "        while (GP142_await_event(&mouse_x, &mouse_y, &key_pressed)!= GP142_QUIT)\n",
        "        {}\n",
        "\n",
        "        GP142_close();            /* Clean up and close graphics window */\n",
        "        return 0;\n",
        "    }\n",
        "    '''\n",
        "\n",
        "    # Write the SVG content to the file\n",
        "    with open(fractal, 'w') as svg_file:  # Opens a file for writing. Creates the file if it does not exist. Overwrites the file if it exists.\n",
        "        svg_file.write(svg_content)\n",
        "\n",
        "    # Print the SVG content to the console\n",
        "    #print(svg_content)\n",
        "\n",
        "# Example usage\n",
        "create_svg(\"fractal.svg\")   # creates an SVG file called example.svg"
      ],
      "metadata": {
        "id": "8eb9bJB0B59K"
      },
      "execution_count": null,
      "outputs": []
    },
    {
      "cell_type": "code",
      "source": [
        "# Writing the above code to matach all the other code\n",
        "def affine_transformation(matrix, vector):\n",
        "    transformed_vector = [0, 0]\n",
        "    for i in range(2):\n",
        "        transformed_vector[i] = matrix[i][0] * vector[0] + matrix[i][1] * vector[1]\n",
        "    return transformed_vector\n",
        "\n",
        "def create_svg(fractal):\n",
        "    # Define the affine transformation matrix and translation vector\n",
        "    affine_matrix = [[1, 0], [0, 1]]  # Identity matrix for this example\n",
        "    translation_vector = [50, 50]     # Example translation vector\n",
        "\n",
        "    # Example input vector\n",
        "    input_vector = [10, 10]\n",
        "\n",
        "    # Apply the affine transformation\n",
        "    transformed_vector = affine_transformation(affine_matrix, input_vector)\n",
        "    transformed_vector = [transformed_vector[i] + translation_vector[i] for i in range(2)]\n",
        "\n",
        "    # Write the transformed coordinates to the SVG file\n",
        "    svg_content = f'''\n",
        "    <svg width=\"100\" height=\"100\">\n",
        "        <circle cx=\"{transformed_vector[0]}\" cy=\"{transformed_vector[1]}\" r=\"5\" fill=\"red\" />\n",
        "    </svg>\n",
        "    '''\n",
        "\n",
        "    # Write the SVG content to the file\n",
        "    with open(fractal, 'w') as svg_file:\n",
        "        svg_file.write(svg_content)\n",
        "\n",
        "# Example usage\n",
        "create_svg(\"fractal.svg\")"
      ],
      "metadata": {
        "id": "RRrvJD1CaQj9"
      },
      "execution_count": null,
      "outputs": []
    },
    {
      "cell_type": "code",
      "source": [
        "# Example with Affine Transformation"
      ],
      "metadata": {
        "id": "0FxcoVkEEDid"
      },
      "execution_count": null,
      "outputs": []
    },
    {
      "cell_type": "markdown",
      "source": [
        "Notes:\n",
        "- don’t worry about anything but the call to drawFractal() --> going to do all the work\n",
        "- make a prototype for this function\n",
        "- it doesn’t need to take any parameters or return a value\n",
        "- add the functions you defined in Part I to your main.c file (code above)  \n",
        "- define the drawFractal function by placing some temporary code in the body\n",
        "- this temporary code should declare some affine transformations and vectors representing points on the graphics screen\n",
        "\n",
        "Example:\n",
        "- Step 1: try defining four vectors in a square and connecting them with line segments --> (Draw a line by calling GP142_lineXY. If your background is black, use the color WHITE)\n",
        "- Step 2: then apply an affine transformation to each vector and connect the resulting four new vectors with line segments\n",
        "- repeat this with various different transformations and see if you can achieve translation and scaling"
      ],
      "metadata": {
        "id": "sYL2xvmMENLH"
      }
    },
    {
      "cell_type": "code",
      "source": [
        "# Step 1 - create a square\n",
        "def drawFractal(square):\n",
        "    # Define SVG content as a string\n",
        "    svg_content = '''\n",
        "    <svg xmlns=\"http://www.w3.org/2000/svg\" width=\"100\" height=\"100\">\n",
        "        <line x1=\"10\" y1=\"10\" x2=\"90\" y2=\"10\" stroke=\"black\" stroke-width=\"2\"/>\n",
        "        <line x1=\"90\" y1=\"10\" x2=\"90\" y2=\"90\" stroke=\"black\" stroke-width=\"2\"/>\n",
        "        <line x1=\"90\" y1=\"90\" x2=\"10\" y2=\"90\" stroke=\"black\" stroke-width=\"2\"/>\n",
        "        <line x1=\"10\" y1=\"90\" x2=\"10\" y2=\"10\" stroke=\"black\" stroke-width=\"2\"/>\n",
        "    </svg>\n",
        "    '''\n",
        "\n",
        "    # Write the SVG content to the file\n",
        "    with open(square, 'w') as svg_file:  # Opens a file for writing. Creates the file if it does not exist. Overwrites the file if it exists.\n",
        "        svg_file.write(svg_content)\n",
        "\n",
        "# Example usage\n",
        "create_svg(\"square.svg\")   # creates an SVG file called example.svg\n",
        "\n",
        "\n",
        "# Step 2 - apply an affine transformation\n",
        "import numpy as np\n",
        "\n",
        "def apply_affine_transformation(point, matrix):\n",
        "    # Add homogeneous coordinate\n",
        "    homogeneous_point = np.append(point, [1])\n",
        "    # Apply transformation\n",
        "    transformed_point = np.dot(matrix, homogeneous_point)\n",
        "    # Remove homogeneous coordinate\n",
        "    return transformed_point[:2]\n",
        "\n",
        "def create_svg_file(filename):\n",
        "    # Define the transformation matrix (for example, scaling by a factor of 2)\n",
        "    transformation_matrix = np.array([[2, 0, 0], [0, 2, 0], [0, 0, 1]])\n",
        "\n",
        "    # Define the original points of the square\n",
        "    points = np.array([[10, 10], [90, 10], [90, 90], [10, 90]])\n",
        "\n",
        "    # Apply the affine transformation to each point\n",
        "    transformed_points = [apply_affine_transformation(point, transformation_matrix) for point in points]\n",
        "\n",
        "    # Define SVG content as a string\n",
        "    svg_content = f'''\n",
        "    <svg xmlns=\"http://www.w3.org/2000/svg\" width=\"200\" height=\"200\">\n",
        "        <line x1=\"{transformed_points[0][0]}\" y1=\"{transformed_points[0][1]}\" x2=\"{transformed_points[1][0]}\" y2=\"{transformed_points[1][1]}\" stroke=\"black\" stroke-width=\"2\"/>\n",
        "        <line x1=\"{transformed_points[1][0]}\" y1=\"{transformed_points[1][1]}\" x2=\"{transformed_points[2][0]}\" y2=\"{transformed_points[2][1]}\" stroke=\"black\" stroke-width=\"2\"/>\n",
        "        <line x1=\"{transformed_points[2][0]}\" y1=\"{transformed_points[2][1]}\" x2=\"{transformed_points[3][0]}\" y2=\"{transformed_points[3][1]}\" stroke=\"black\" stroke-width=\"2\"/>\n",
        "        <line x1=\"{transformed_points[3][0]}\" y1=\"{transformed_points[3][1]}\" x2=\"{transformed_points[0][0]}\" y2=\"{transformed_points[0][1]}\" stroke=\"black\" stroke-width=\"2\"/>\n",
        "    </svg>\n",
        "    '''\n",
        "\n",
        "    # Write the SVG content to the file\n",
        "    with open(filename, 'w') as svg_file:\n",
        "        svg_file.write(svg_content)\n",
        "\n",
        "# Example usage\n",
        "create_svg_file(\"square_transformed.svg\")"
      ],
      "metadata": {
        "id": "xH07xSqO7xqz"
      },
      "execution_count": null,
      "outputs": []
    },
    {
      "cell_type": "code",
      "source": [
        "# Reading in an array of Transformations"
      ],
      "metadata": {
        "id": "H1wnhFlDara9"
      },
      "execution_count": null,
      "outputs": []
    },
    {
      "cell_type": "markdown",
      "source": [
        "Notes:\n",
        "- the user will specify a set of transformations to be used to generate a fractal in a data file “data.txt” that contains the numerical entries for each matrix and vector of each affine transformation\n",
        "- up to 10 transformations may be specified, one per line of the file, with the exception of the very first line, which will contain a single integer specifying how many transformations to use\n",
        "- each line after that will contain six double numbers separated by spaces\n",
        "- the first four numbers on a line will correspond to the entries a, b, c, and d in a transformation’s matrix, and the last two will be the entries in the translation vector\n",
        "- your program will read in the transformations and store them in a ten-entry array of AffineTransformations\n",
        "\n",
        "\n",
        "Process:\n",
        "- delete the temporary code you wrote in drawFractal's body\n",
        "- in its place, declare an array of AffineTransformations with MAX_TRANSFORMS entries, where MAX_TRANSFORMS is #defined to be 10\n",
        "- declare an integer that will be the number of transformations actually used\n",
        "- now define a function getTransforms that takes the arrary of transformations as a parameter and fills this array with transformations read in from data.txt\n",
        "- this function should return an integer that is the number of transformations used, as read from the first line of the file\n",
        "- call  getTransforms from drawFractal\n",
        "- remember to assign the return value to the variable you declared to store the number of transformations used"
      ],
      "metadata": {
        "id": "VTdbL1yDRv32"
      }
    },
    {
      "cell_type": "code",
      "source": [
        "# Transformations\n",
        "\n",
        "def create_svg(transformations):\n",
        "    svg_content = '''\n",
        "    #define MAX_TRANSFORMATIONS 10   // specifies the max number of transformations\n",
        "    typedef struct {\n",
        "        double matrix[3][3];\n",
        "        Vector vector;\n",
        "    } AffineTransformation;   // defined from before\n",
        "\n",
        "    // this function takes an array of AffineTransformations and a filename as parameters\n",
        "    int getTransforms(AffineTransformation transforms[], const char* filename) {\n",
        "        FILE *file = fopen(filename, \"r\");\n",
        "        if (file == NULL) {\n",
        "            printf(\"Error opening file.\\n\");\n",
        "            return 0;\n",
        "        }\n",
        "\n",
        "        int num_transforms;\n",
        "        fscanf(file, \"%d\", &num_transforms);\n",
        "\n",
        "        for (int i = 0; i < num_transforms; i++) {\n",
        "            for (int j = 0; j < 3; j++) {\n",
        "                for (int k = 0; k < 3; k++) {\n",
        "                    fscanf(file, \"%lf\", &transforms[i].matrix[j][k]);\n",
        "                }\n",
        "            }\n",
        "            fscanf(file, \"%lf %lf %lf\", &transforms[i].vector.x, &transforms[i].vector.y, &transforms[i].vector.z);\n",
        "        }\n",
        "\n",
        "        fclose(file);\n",
        "        return num_transforms;\n",
        "    }\n",
        "\n",
        "    void drawFractal() {\n",
        "        // declare an array of AffineTransformation structs with size MAX_TRANSFORMATIONS to store the transformations\n",
        "        AffineTransformation transforms[MAX_TRANSFORMS];\n",
        "        // call getTransforms from drawFractal to read the transformations from the file data.txt and store them in the transforms array\n",
        "        int num_transforms = getTransforms(transforms, \"data.txt\");   // use the num_transforms variable to store the number of transforms from the file\n",
        "\n",
        "        // Drawing logic using the transformations...\n",
        "    }\n",
        "\n",
        "    int main() {        // calls drawFractal to start the drawing process\n",
        "        drawFractal();\n",
        "        return 0;\n",
        "    }\n",
        "    '''\n",
        "\n",
        "    # Write the SVG content to the file\n",
        "    with open(transformations, 'w') as svg_file:  # Opens a file for writing. Creates the file if it does not exist. Overwrites the file if it exists.\n",
        "        svg_file.write(svg_content)\n",
        "\n",
        "# Example usage\n",
        "create_svg(\"transformations.svg\")   # creates an SVG file called example.svg"
      ],
      "metadata": {
        "id": "qK30UAd-DGVi"
      },
      "execution_count": null,
      "outputs": []
    },
    {
      "cell_type": "code",
      "source": [
        "# Calculating Maximum Recursion Depth"
      ],
      "metadata": {
        "id": "-Mk9chxHDGMi"
      },
      "execution_count": null,
      "outputs": []
    },
    {
      "cell_type": "markdown",
      "source": [
        "Notes:\n",
        "- make sure that calculating your fractal image doesn’t take too much time\n",
        "- don't plot any more points than you have to in order to generate a nice looking image\n",
        "- You should #define MAX_POINTS, the maximum number of points to plot\n",
        "- a good number to use for MAX_POINTS is 65536\n",
        "- you can calculate the maximum depth to which you want your recursive function to be called from this number and the number of transformations used, because each transformation will generate a recursive call for each vector\n",
        "- this maximum recursion depth turns out to be the logarithm, base b, of MAX_POINTS, where b is the number of transforms\n",
        "- to calculate log, base b, calculate log and divide by log b\n",
        "- then cast the result to an int and store this value in an int variable, called max_depth, in drawFractal\n",
        "- this is what you should have:\n",
        "\n",
        "      /* calculate the maximun recursion depth: */\n",
        "\n",
        "      max_depth = ( int )( log( MAX_POINTS ) / log( transforms ) );\n",
        "\n",
        "- here the variable transforms is the number of transforms being used, as returned by the getTransforms function"
      ],
      "metadata": {
        "id": "3Lv2F7VDhzFN"
      }
    },
    {
      "cell_type": "code",
      "source": [
        "# Generating the Fractal"
      ],
      "metadata": {
        "id": "lWpkBUImDGHF"
      },
      "execution_count": null,
      "outputs": []
    },
    {
      "cell_type": "markdown",
      "source": [
        "Step 1:\n",
        "- Now create a function plotVector that takes a Vector pointer as a parameter and plots the pixel on the screen corresponding to this vector\n",
        "- You can do this with a single call to GP142_pixelXY\n",
        "- You will need to cast the Vector’s entries to ints\n",
        "\n",
        "Step 2:\n",
        "- Now define a Vector startPoint in drawFractal whose entries are both zero\n",
        "- Such a vector is known as the zero vector\n",
        "- This will be the starting point from which all points in the image are generated via a sequences of affine transformations (Note that this point itself is not necessarily part of the image)\n",
        "\n",
        "Step 3:\n",
        "- Finally, define the function recursivePlot that takes as parameters a Vector pointer, an array of AffineTransforms, an integer specifying how many transforms there are, an integer specifying current recursion depth, and an integer specifying maximum recursion depth\n",
        "- The base case for this recursive function should be that the current recursion depth equals the maximum recursion depth\n",
        "- If this is the case then recursivePlot should simply plot the Vector with a call to plotVector and return\n",
        "\n",
        "Step 4:\n",
        "- Otherwise recursivePlot should loop through all the transformations in the array, the number of which was specified in the third parameter\n",
        "- For each transformation, it should calculate a new vector with a call to AffineTransform and recursively call itself, passing the value of this new vector\n",
        "- Remember to pass the current recursion depth plus one or the recursion will never reach the base case\n",
        "- Besides the new vector and recursion depth, all other arguments to the recursive call should be the same\n",
        "\n",
        "Step 5:\n",
        "- Call recursivePlot from drawFractal, passing as parameters the zero vector you declared, the array of transformations you read in, the number of transformations read in, zero for the current depth, and the maximum depth that you calculated\n",
        "- Your program should now be complete, and you can start defining some data files to generate fractals"
      ],
      "metadata": {
        "id": "76itGI5YldPf"
      }
    },
    {
      "cell_type": "code",
      "source": [
        "# Creating Fractals"
      ],
      "metadata": {
        "id": "wvXftgKTDGAw"
      },
      "execution_count": null,
      "outputs": []
    },
    {
      "cell_type": "code",
      "source": [
        "# Here is the data.txt file that generates the snowflake fractal:\n",
        "\n",
        "4\n",
        "0.4 0.0 0.0 0.4 -160 0\n",
        "0.4 0.0 0.0 0.4 160 0\n",
        "0.4 -0.5 0.5 0.4 0 0\n",
        "0.4 0.5 -0.5 0.4 0 0\n",
        "\n",
        "# The Sierpinski Gasket data.txt file:\n",
        "\n",
        "3\n",
        "0.5 0.0 0.0 0.5 0 100\n",
        "0.5 0.0 0.0 0.5 100 -100\n",
        "0.5 0.0 0.0 0.5 -100 -100\n",
        "\n",
        "# The Koch Curve data.txt file:\n",
        "\n",
        "4\n",
        ".3333 0.0 0.0 .3333 -200 0\n",
        ".3333 0.0 0.0 .3333 200 0\n",
        "0.16667 -0.288675 0.288675 0.16667 -50 86.6024\n",
        "0.16667 0.288675 -0.288675 0.16667 50 86.6024\n",
        "\n",
        "# A square data.txt file:\n",
        "\n",
        "8\n",
        "0.3333 0.0 0.0 0.3333 0 150\n",
        "0.3333 0.0 0.0 0.3333 0 -150\n",
        "0.3333 0.0 0.0 0.3333 150 0\n",
        "0.3333 0.0 0.0 0.3333 -150 0\n",
        "0.3333 0.0 0.0 0.3333 150 -150\n",
        "0.3333 0.0 0.0 0.3333 -150 150\n",
        "0.3333 0.0 0.0 0.3333 150 150\n",
        "0.3333 0.0 0.0 0.3333 -150 -150\n",
        "\n",
        "# A pentagon data.txt file:\n",
        "\n",
        "5\n",
        "0.38 0.0 0.0 0.38 100 0\n",
        "0.38 0.0 0.0 0.38 30.9017 95.1057\n",
        "0.38 0.0 0.0 0.38 -80.9017 58.7785\n",
        "0.38 0.0 0.0 0.38 -80.9017 -58.7785\n",
        "0.38 0.0 0.0 0.38 30.9017 -95.1057\n",
        "\n",
        "# Dragon Fire data.txt file:\n",
        "\n",
        "3\n",
        "0.5 0.0 0.0 0.8 0.0 50\n",
        "0.5 0.2 -0.2 0.5 -100 -100\n",
        "0.5 -0.2 0.2 0.5 100 -100"
      ],
      "metadata": {
        "colab": {
          "base_uri": "https://localhost:8080/",
          "height": 143
        },
        "id": "37YZqS1dDFi6",
        "outputId": "b689d292-dc16-47ca-d65a-fe5eccc94766"
      },
      "execution_count": null,
      "outputs": [
        {
          "output_type": "error",
          "ename": "SyntaxError",
          "evalue": "invalid syntax (<ipython-input-9-089ae40c2acd>, line 4)",
          "traceback": [
            "\u001b[0;36m  File \u001b[0;32m\"<ipython-input-9-089ae40c2acd>\"\u001b[0;36m, line \u001b[0;32m4\u001b[0m\n\u001b[0;31m    0.4 0.0 0.0 0.4 -160 0\u001b[0m\n\u001b[0m        ^\u001b[0m\n\u001b[0;31mSyntaxError\u001b[0m\u001b[0;31m:\u001b[0m invalid syntax\n"
          ]
        }
      ]
    },
    {
      "cell_type": "code",
      "source": [
        "# How to control the fractals you generate"
      ],
      "metadata": {
        "id": "1brCgJFzD5k7"
      },
      "execution_count": null,
      "outputs": []
    },
    {
      "cell_type": "markdown",
      "source": [
        "Notes:\n",
        "- The secret is to consider the layout of the self-similar pieces of the fractal\n",
        "- First of all, how many such pieces are there?\n",
        "- The number of pieces tells you how many transformations you will need\n",
        "- For example, the Sierpinski Gasket consists of three pieces identical to itself, each ½ scale with one on top of the other two\n",
        "- Thus you need three transformations, and each transformation needs to scale by 0.5, in both the x and y dimensions\n",
        "- The matrix part of an affine transformation is responsible for scaling\n",
        "- The key to creating a matrix that will scale by a certain factor is to take a matrix that scales by a factor of one and then multiply each entry by the desired factor\n",
        "- The matrix that scales by a factor of one is called the identity matrix\n",
        "      [1 0]\n",
        "      [0 1]\n",
        "- Thus the matrix that scales by a factor of 0.5 is just 0.5 times this matrix:\n",
        "      [0.5  0 ]\n",
        "      [ 0  0.5]\n",
        "- Note that it is also possible to scale in the x-dimension by a different factor than in the y-dimension. The top row of the matrix effects x-coordinates, and the bottom row affects y-coordinates\n",
        "- Next you need to think about how the three pieces are positioned\n",
        "- This is where the translation comes into the picture\n",
        "- The first transformation of the Gasket has the translation vector (0, 100)\n",
        "- This tells you that the translation is 100 units straight up\n",
        "- The second is (100, -100), corresponding to down and to the right\n",
        "- The third is (-100, -100), indicating a translation down and to the left\n",
        "- Thus the image will have a triangular arrangement\n",
        "- Generating the Gasket doesn’t involve any rotation or skew\n",
        "- However, generating the Koch Curve does. To do a rotation, use a matrix like this:\n",
        "      [cos(theta)  -sin(theta)]\n",
        "      [sin(theta)   cos(theta)]\n",
        "- You need to calculate actual numbers to put in the data.txt file\n",
        "- The resulting rotation matrix needs to be adjusted for scaling, by multiplying each entry by the desired scale factor\n",
        "- The Koch fractal uses four transformations\n",
        "- The first two translate left and right and scale by 1/3, but do not rotate\n",
        "- The second two translate up, with one also translating left and rotating by pi/3 radians, and the other translating right and rotating by –pi/3 radians\n",
        "- These two scale by 1/3 also\n",
        "- The affect of doing such transformations on a horizontal line of length 3 would be the generation of the same line but with the middle one third removed and replaced by an equilateral triangle of side length 1, and no base\n",
        "- When we’re drawing the Koch fractal, we recursively apply these transformations over and over, and thus see the shape that would be generated by repeating this process for each new line segment ad infinitum"
      ],
      "metadata": {
        "id": "KfHs0q8Lqmlj"
      }
    }
  ]
}